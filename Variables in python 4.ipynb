{
 "cells": [
  {
   "cell_type": "code",
   "execution_count": 1,
   "id": "75ec337e",
   "metadata": {},
   "outputs": [],
   "source": [
    "#in C lang-\n",
    "#int a=5"
   ]
  },
  {
   "cell_type": "code",
   "execution_count": 22,
   "id": "0185def7",
   "metadata": {},
   "outputs": [
    {
     "name": "stdout",
     "output_type": "stream",
     "text": [
      "Awais\n"
     ]
    }
   ],
   "source": [
    "name='Awais'\n",
    "print(name)"
   ]
  },
  {
   "cell_type": "code",
   "execution_count": 24,
   "id": "155bb9ee",
   "metadata": {},
   "outputs": [
    {
     "name": "stdout",
     "output_type": "stream",
     "text": [
      "Hello world\n"
     ]
    }
   ],
   "source": [
    "name=\"Hello world\"\n",
    "print(name)"
   ]
  },
  {
   "cell_type": "code",
   "execution_count": 23,
   "id": "75beddc8",
   "metadata": {},
   "outputs": [],
   "source": [
    "# no variavle declaration in python."
   ]
  },
  {
   "cell_type": "code",
   "execution_count": 25,
   "id": "b84e465d",
   "metadata": {},
   "outputs": [],
   "source": [
    "#Dynamic typing:\n",
    "#if we create variable in python it can understand datatype automaticaly.\n",
    "#There is a dynamic typing in python and php."
   ]
  },
  {
   "cell_type": "code",
   "execution_count": 26,
   "id": "cd51e529",
   "metadata": {},
   "outputs": [],
   "source": [
    "#Static typing:\n",
    "#opposite of dynamis typing, in which we need to declare datatype."
   ]
  },
  {
   "cell_type": "code",
   "execution_count": 27,
   "id": "ec1e0013",
   "metadata": {},
   "outputs": [
    {
     "name": "stdout",
     "output_type": "stream",
     "text": [
      "Hello world\n"
     ]
    }
   ],
   "source": [
    "print(name)"
   ]
  },
  {
   "cell_type": "code",
   "execution_count": 28,
   "id": "d906b034",
   "metadata": {},
   "outputs": [
    {
     "name": "stdout",
     "output_type": "stream",
     "text": [
      "4\n"
     ]
    }
   ],
   "source": [
    "name=4\n",
    "print(name)"
   ]
  },
  {
   "cell_type": "code",
   "execution_count": 29,
   "id": "26cc3ae9",
   "metadata": {},
   "outputs": [
    {
     "name": "stdout",
     "output_type": "stream",
     "text": [
      "True\n"
     ]
    }
   ],
   "source": [
    "nmae=True\n",
    "print(True)"
   ]
  },
  {
   "cell_type": "code",
   "execution_count": 30,
   "id": "8b750bba",
   "metadata": {},
   "outputs": [],
   "source": [
    "#Dynamic binding:\n",
    "#if a variable store multiple datatypes is called dynamic binding."
   ]
  },
  {
   "cell_type": "code",
   "execution_count": 31,
   "id": "f204d0d4",
   "metadata": {},
   "outputs": [],
   "source": [
    "#Static binding:\n",
    "#opposite of dynamic binding,it cannot change datatyes automaticaly."
   ]
  },
  {
   "cell_type": "code",
   "execution_count": 33,
   "id": "8c016c7f",
   "metadata": {},
   "outputs": [
    {
     "name": "stdout",
     "output_type": "stream",
     "text": [
      "5\n",
      "6\n",
      "7\n"
     ]
    }
   ],
   "source": [
    "#special syntax:\n",
    "a=5;b=6;c=7\n",
    "print(a)\n",
    "print(b)\n",
    "print(c)"
   ]
  },
  {
   "cell_type": "code",
   "execution_count": 36,
   "id": "060dd1e3",
   "metadata": {},
   "outputs": [
    {
     "name": "stdout",
     "output_type": "stream",
     "text": [
      "5\n",
      "6\n",
      "7\n"
     ]
    }
   ],
   "source": [
    "a,b,c=5,6,7\n",
    "print(a)\n",
    "print(b)\n",
    "print(c)"
   ]
  },
  {
   "cell_type": "code",
   "execution_count": 37,
   "id": "1f38d53b",
   "metadata": {},
   "outputs": [
    {
     "name": "stdout",
     "output_type": "stream",
     "text": [
      "7\n",
      "7\n",
      "7\n"
     ]
    }
   ],
   "source": [
    "a=b=c=7\n",
    "print(a)\n",
    "print(b)\n",
    "print(c)"
   ]
  },
  {
   "cell_type": "code",
   "execution_count": null,
   "id": "4a8fc317",
   "metadata": {},
   "outputs": [],
   "source": []
  }
 ],
 "metadata": {
  "kernelspec": {
   "display_name": "Python 3 (ipykernel)",
   "language": "python",
   "name": "python3"
  },
  "language_info": {
   "codemirror_mode": {
    "name": "ipython",
    "version": 3
   },
   "file_extension": ".py",
   "mimetype": "text/x-python",
   "name": "python",
   "nbconvert_exporter": "python",
   "pygments_lexer": "ipython3",
   "version": "3.9.13"
  }
 },
 "nbformat": 4,
 "nbformat_minor": 5
}
