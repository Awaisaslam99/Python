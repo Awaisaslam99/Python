{
 "cells": [
  {
   "cell_type": "code",
   "execution_count": 1,
   "id": "035c5a0c",
   "metadata": {},
   "outputs": [
    {
     "data": {
      "text/plain": [
       "{'Awais', 'Gender', 'Hello', 'Male'}"
      ]
     },
     "execution_count": 1,
     "metadata": {},
     "output_type": "execute_result"
    }
   ],
   "source": [
    "{'Hello','Awais','Gender','Male'}"
   ]
  },
  {
   "cell_type": "code",
   "execution_count": 3,
   "id": "3519a95b",
   "metadata": {},
   "outputs": [
    {
     "data": {
      "text/plain": [
       "{}"
      ]
     },
     "execution_count": 3,
     "metadata": {},
     "output_type": "execute_result"
    }
   ],
   "source": [
    "#Create:\n",
    "D={}\n",
    "D"
   ]
  },
  {
   "cell_type": "code",
   "execution_count": 6,
   "id": "d1e3ff75",
   "metadata": {},
   "outputs": [
    {
     "data": {
      "text/plain": [
       "dict"
      ]
     },
     "execution_count": 6,
     "metadata": {},
     "output_type": "execute_result"
    }
   ],
   "source": [
    "type(D)"
   ]
  },
  {
   "cell_type": "code",
   "execution_count": 17,
   "id": "33102f53",
   "metadata": {},
   "outputs": [
    {
     "data": {
      "text/plain": [
       "{'Name': 'Awais', 'Gender': 'Male'}"
      ]
     },
     "execution_count": 17,
     "metadata": {},
     "output_type": "execute_result"
    }
   ],
   "source": [
    "D1={'Name':'Awais','Gender':'Male'}\n",
    "D1"
   ]
  },
  {
   "cell_type": "code",
   "execution_count": 8,
   "id": "c60f2bf6",
   "metadata": {},
   "outputs": [
    {
     "ename": "TypeError",
     "evalue": "unhashable type: 'list'",
     "output_type": "error",
     "traceback": [
      "\u001b[1;31m---------------------------------------------------------------------------\u001b[0m",
      "\u001b[1;31mTypeError\u001b[0m                                 Traceback (most recent call last)",
      "\u001b[1;32m~\\AppData\\Local\\Temp\\ipykernel_9700\\847255969.py\u001b[0m in \u001b[0;36m<module>\u001b[1;34m\u001b[0m\n\u001b[1;32m----> 1\u001b[1;33m \u001b[0mD2\u001b[0m\u001b[1;33m=\u001b[0m\u001b[1;33m{\u001b[0m\u001b[1;33m[\u001b[0m\u001b[1;36m1\u001b[0m\u001b[1;33m,\u001b[0m\u001b[1;36m2\u001b[0m\u001b[1;33m,\u001b[0m\u001b[1;36m3\u001b[0m\u001b[1;33m]\u001b[0m\u001b[1;33m:\u001b[0m\u001b[1;34m'Hello'\u001b[0m\u001b[1;33m}\u001b[0m\u001b[1;33m\u001b[0m\u001b[1;33m\u001b[0m\u001b[0m\n\u001b[0m\u001b[0;32m      2\u001b[0m \u001b[0mD2\u001b[0m\u001b[1;33m\u001b[0m\u001b[1;33m\u001b[0m\u001b[0m\n",
      "\u001b[1;31mTypeError\u001b[0m: unhashable type: 'list'"
     ]
    }
   ],
   "source": [
    "D2={[1,2,3]:'Hello'}\n",
    "D2"
   ]
  },
  {
   "cell_type": "code",
   "execution_count": 10,
   "id": "c8a04dfb",
   "metadata": {},
   "outputs": [
    {
     "data": {
      "text/plain": [
       "{(1, 2, 3): 'Hello'}"
      ]
     },
     "execution_count": 10,
     "metadata": {},
     "output_type": "execute_result"
    }
   ],
   "source": [
    "D3={(1,2,3):'Hello'}\n",
    "D3"
   ]
  },
  {
   "cell_type": "code",
   "execution_count": 11,
   "id": "f301c789",
   "metadata": {},
   "outputs": [
    {
     "data": {
      "text/plain": [
       "{'Name': 'Anas'}"
      ]
     },
     "execution_count": 11,
     "metadata": {},
     "output_type": "execute_result"
    }
   ],
   "source": [
    "D4={'Name':'Awais','Name':'Anas'}\n",
    "D4\n",
    "#key->immutable,value can be mutable."
   ]
  },
  {
   "cell_type": "code",
   "execution_count": 20,
   "id": "46f77ff9",
   "metadata": {},
   "outputs": [
    {
     "data": {
      "text/plain": [
       "{'Name': 'Awais', 'Marks': {'M1': 10, 'DS': 40}}"
      ]
     },
     "execution_count": 20,
     "metadata": {},
     "output_type": "execute_result"
    }
   ],
   "source": [
    "#2D dictionary:\n",
    "D5={'Name':'Awais','Marks':{'M1':10,'DS':40}}\n",
    "D5\n"
   ]
  },
  {
   "cell_type": "code",
   "execution_count": 14,
   "id": "06a71500",
   "metadata": {},
   "outputs": [
    {
     "data": {
      "text/plain": [
       "{'Awais', 'Gender', 'Hello', 'Male'}"
      ]
     },
     "execution_count": 14,
     "metadata": {},
     "output_type": "execute_result"
    }
   ],
   "source": [
    "#access:\n",
    "D1"
   ]
  },
  {
   "cell_type": "code",
   "execution_count": 18,
   "id": "a49e1223",
   "metadata": {},
   "outputs": [
    {
     "data": {
      "text/plain": [
       "'Awais'"
      ]
     },
     "execution_count": 18,
     "metadata": {},
     "output_type": "execute_result"
    }
   ],
   "source": [
    "\n",
    "D1['Name']"
   ]
  },
  {
   "cell_type": "code",
   "execution_count": 19,
   "id": "a40ee9ca",
   "metadata": {},
   "outputs": [
    {
     "ename": "KeyError",
     "evalue": "0",
     "output_type": "error",
     "traceback": [
      "\u001b[1;31m---------------------------------------------------------------------------\u001b[0m",
      "\u001b[1;31mKeyError\u001b[0m                                  Traceback (most recent call last)",
      "\u001b[1;32m~\\AppData\\Local\\Temp\\ipykernel_9700\\1880426176.py\u001b[0m in \u001b[0;36m<module>\u001b[1;34m\u001b[0m\n\u001b[1;32m----> 1\u001b[1;33m \u001b[0mD1\u001b[0m\u001b[1;33m[\u001b[0m\u001b[1;36m0\u001b[0m\u001b[1;33m]\u001b[0m\u001b[1;33m\u001b[0m\u001b[1;33m\u001b[0m\u001b[0m\n\u001b[0m",
      "\u001b[1;31mKeyError\u001b[0m: 0"
     ]
    }
   ],
   "source": [
    "D1[0]\n",
    "#use keys for access items not numbers:"
   ]
  },
  {
   "cell_type": "code",
   "execution_count": 21,
   "id": "e41423f7",
   "metadata": {},
   "outputs": [
    {
     "data": {
      "text/plain": [
       "{'Name': 'Awais', 'Marks': {'M1': 10, 'DS': 40}}"
      ]
     },
     "execution_count": 21,
     "metadata": {},
     "output_type": "execute_result"
    }
   ],
   "source": [
    "#Accessing in 2D dictionary:\n",
    "D5"
   ]
  },
  {
   "cell_type": "code",
   "execution_count": 22,
   "id": "fbb9825e",
   "metadata": {},
   "outputs": [
    {
     "data": {
      "text/plain": [
       "10"
      ]
     },
     "execution_count": 22,
     "metadata": {},
     "output_type": "execute_result"
    }
   ],
   "source": [
    "D5['Marks']['M1']"
   ]
  },
  {
   "cell_type": "code",
   "execution_count": 23,
   "id": "6374db12",
   "metadata": {},
   "outputs": [
    {
     "data": {
      "text/plain": [
       "{'Name': 'Awais', 'Gender': 'Male'}"
      ]
     },
     "execution_count": 23,
     "metadata": {},
     "output_type": "execute_result"
    }
   ],
   "source": [
    "#Edit:\n",
    "D1\n"
   ]
  },
  {
   "cell_type": "code",
   "execution_count": 25,
   "id": "f7bb280e",
   "metadata": {},
   "outputs": [
    {
     "data": {
      "text/plain": [
       "{'Name': 'Aslam', 'Gender': 'Male'}"
      ]
     },
     "execution_count": 25,
     "metadata": {},
     "output_type": "execute_result"
    }
   ],
   "source": [
    "D1['Name']='Aslam'\n",
    "D1"
   ]
  },
  {
   "cell_type": "code",
   "execution_count": 27,
   "id": "4e291b02",
   "metadata": {},
   "outputs": [
    {
     "data": {
      "text/plain": [
       "{'Name': 'Awais', 'Marks': {'M1': 20, 'DS': 40}}"
      ]
     },
     "execution_count": 27,
     "metadata": {},
     "output_type": "execute_result"
    }
   ],
   "source": [
    "D5['Marks'][\"M1\"]=20\n",
    "D5"
   ]
  },
  {
   "cell_type": "code",
   "execution_count": 28,
   "id": "1adacf51",
   "metadata": {},
   "outputs": [
    {
     "data": {
      "text/plain": [
       "{'Name': 'Aslam', 'Gender': 'Male'}"
      ]
     },
     "execution_count": 28,
     "metadata": {},
     "output_type": "execute_result"
    }
   ],
   "source": [
    "# Adding new key value pairs:\n",
    "D1"
   ]
  },
  {
   "cell_type": "code",
   "execution_count": 35,
   "id": "750d6088",
   "metadata": {},
   "outputs": [
    {
     "data": {
      "text/plain": [
       "{'Name': 'Aslam', 'Gender': 'Male', 'Age': 21}"
      ]
     },
     "execution_count": 35,
     "metadata": {},
     "output_type": "execute_result"
    }
   ],
   "source": [
    "D1['Age']=21\n",
    "D1"
   ]
  },
  {
   "cell_type": "code",
   "execution_count": 37,
   "id": "a5a14f21",
   "metadata": {},
   "outputs": [
    {
     "data": {
      "text/plain": [
       "{'Name': 'Awais', 'Marks': {'M1': 20, 'DS': 40, 'M2': 11}}"
      ]
     },
     "execution_count": 37,
     "metadata": {},
     "output_type": "execute_result"
    }
   ],
   "source": [
    "#addition in 2D dictionary:\n",
    "D5['Marks']['M2']=11\n",
    "D5"
   ]
  },
  {
   "cell_type": "code",
   "execution_count": 39,
   "id": "f90a268b",
   "metadata": {},
   "outputs": [
    {
     "ename": "NameError",
     "evalue": "name 'D' is not defined",
     "output_type": "error",
     "traceback": [
      "\u001b[1;31m---------------------------------------------------------------------------\u001b[0m",
      "\u001b[1;31mNameError\u001b[0m                                 Traceback (most recent call last)",
      "\u001b[1;32m~\\AppData\\Local\\Temp\\ipykernel_9700\\3576857384.py\u001b[0m in \u001b[0;36m<module>\u001b[1;34m\u001b[0m\n\u001b[0;32m      1\u001b[0m \u001b[1;31m#How to Delete:\u001b[0m\u001b[1;33m\u001b[0m\u001b[1;33m\u001b[0m\u001b[0m\n\u001b[1;32m----> 2\u001b[1;33m \u001b[1;32mdel\u001b[0m \u001b[0mD\u001b[0m\u001b[1;33m\u001b[0m\u001b[1;33m\u001b[0m\u001b[0m\n\u001b[0m\u001b[0;32m      3\u001b[0m \u001b[0mD\u001b[0m\u001b[1;33m\u001b[0m\u001b[1;33m\u001b[0m\u001b[0m\n",
      "\u001b[1;31mNameError\u001b[0m: name 'D' is not defined"
     ]
    }
   ],
   "source": [
    "#How to Delete:\n",
    "del D\n",
    "D"
   ]
  },
  {
   "cell_type": "code",
   "execution_count": 40,
   "id": "821c979e",
   "metadata": {},
   "outputs": [
    {
     "data": {
      "text/plain": [
       "{'Name': 'Aslam', 'Gender': 'Male', 'Age': 21}"
      ]
     },
     "execution_count": 40,
     "metadata": {},
     "output_type": "execute_result"
    }
   ],
   "source": [
    "D1"
   ]
  },
  {
   "cell_type": "code",
   "execution_count": 41,
   "id": "3ac2daba",
   "metadata": {},
   "outputs": [
    {
     "data": {
      "text/plain": [
       "{'Name': 'Aslam', 'Age': 21}"
      ]
     },
     "execution_count": 41,
     "metadata": {},
     "output_type": "execute_result"
    }
   ],
   "source": [
    "del D1['Gender']\n",
    "D1"
   ]
  },
  {
   "cell_type": "code",
   "execution_count": 42,
   "id": "f6a804f7",
   "metadata": {},
   "outputs": [
    {
     "data": {
      "text/plain": [
       "{}"
      ]
     },
     "execution_count": 42,
     "metadata": {},
     "output_type": "execute_result"
    }
   ],
   "source": [
    "#How to empty the dictionary:\n",
    "D1.clear()\n",
    "D1"
   ]
  },
  {
   "cell_type": "code",
   "execution_count": 45,
   "id": "57a76e92",
   "metadata": {},
   "outputs": [
    {
     "data": {
      "text/plain": [
       "{1, 2, 3}"
      ]
     },
     "execution_count": 45,
     "metadata": {},
     "output_type": "execute_result"
    }
   ],
   "source": [
    "#Operations:\n",
    "D={1,2,3}\n",
    "D"
   ]
  },
  {
   "cell_type": "code",
   "execution_count": 46,
   "id": "7185af06",
   "metadata": {},
   "outputs": [
    {
     "data": {
      "text/plain": [
       "{4, 5, 6}"
      ]
     },
     "execution_count": 46,
     "metadata": {},
     "output_type": "execute_result"
    }
   ],
   "source": [
    "D1={4,5,6}\n",
    "D1"
   ]
  },
  {
   "cell_type": "code",
   "execution_count": 48,
   "id": "e056fc44",
   "metadata": {},
   "outputs": [
    {
     "data": {
      "text/plain": [
       "{7, 8, 9}"
      ]
     },
     "execution_count": 48,
     "metadata": {},
     "output_type": "execute_result"
    }
   ],
   "source": [
    "D2={7,8,9}\n",
    "D2"
   ]
  },
  {
   "cell_type": "code",
   "execution_count": 49,
   "id": "46d4cc64",
   "metadata": {},
   "outputs": [
    {
     "ename": "TypeError",
     "evalue": "unsupported operand type(s) for +: 'set' and 'set'",
     "output_type": "error",
     "traceback": [
      "\u001b[1;31m---------------------------------------------------------------------------\u001b[0m",
      "\u001b[1;31mTypeError\u001b[0m                                 Traceback (most recent call last)",
      "\u001b[1;32m~\\AppData\\Local\\Temp\\ipykernel_9700\\545826276.py\u001b[0m in \u001b[0;36m<module>\u001b[1;34m\u001b[0m\n\u001b[1;32m----> 1\u001b[1;33m \u001b[0mD\u001b[0m\u001b[1;33m+\u001b[0m\u001b[0mD1\u001b[0m\u001b[1;33m\u001b[0m\u001b[1;33m\u001b[0m\u001b[0m\n\u001b[0m",
      "\u001b[1;31mTypeError\u001b[0m: unsupported operand type(s) for +: 'set' and 'set'"
     ]
    }
   ],
   "source": [
    "D+D1\n",
    "#just like sets there's no concatination & multiplication in Dictionary.."
   ]
  },
  {
   "cell_type": "code",
   "execution_count": 58,
   "id": "423d5706",
   "metadata": {},
   "outputs": [
    {
     "name": "stdout",
     "output_type": "stream",
     "text": [
      "Name\n",
      "Gender\n",
      "Age\n"
     ]
    }
   ],
   "source": [
    "# Looping:\n",
    "D4={'Name':'Awais','Gender':'Male','Age':21}\n",
    "for i in D4:\n",
    "    print(i)\n",
    "    #you will get only the keys not values."
   ]
  },
  {
   "cell_type": "code",
   "execution_count": 59,
   "id": "d9b76442",
   "metadata": {},
   "outputs": [
    {
     "name": "stdout",
     "output_type": "stream",
     "text": [
      "Name Awais\n",
      "Gender Male\n",
      "Age 21\n"
     ]
    }
   ],
   "source": [
    "# If you want values than:\n",
    "for i in D4:\n",
    "    print(i,D4[i])"
   ]
  },
  {
   "cell_type": "code",
   "execution_count": 60,
   "id": "83b7f0f1",
   "metadata": {},
   "outputs": [
    {
     "data": {
      "text/plain": [
       "False"
      ]
     },
     "execution_count": 60,
     "metadata": {},
     "output_type": "execute_result"
    }
   ],
   "source": [
    "#Membership operator:\n",
    "'Awais' in D4\n",
    "#when we apply membership operator they will always check keys not values."
   ]
  },
  {
   "cell_type": "code",
   "execution_count": 61,
   "id": "d235a323",
   "metadata": {},
   "outputs": [
    {
     "data": {
      "text/plain": [
       "True"
      ]
     },
     "execution_count": 61,
     "metadata": {},
     "output_type": "execute_result"
    }
   ],
   "source": [
    "'Name' in D4"
   ]
  },
  {
   "cell_type": "code",
   "execution_count": 62,
   "id": "48d8d23b",
   "metadata": {},
   "outputs": [
    {
     "data": {
      "text/plain": [
       "3"
      ]
     },
     "execution_count": 62,
     "metadata": {},
     "output_type": "execute_result"
    }
   ],
   "source": [
    "#Functions:\n",
    "len(D4)\n",
    "#This will gives a number of keys.."
   ]
  },
  {
   "cell_type": "code",
   "execution_count": 63,
   "id": "f18e56e5",
   "metadata": {},
   "outputs": [
    {
     "data": {
      "text/plain": [
       "'Age'"
      ]
     },
     "execution_count": 63,
     "metadata": {},
     "output_type": "execute_result"
    }
   ],
   "source": [
    "min(D4)"
   ]
  },
  {
   "cell_type": "code",
   "execution_count": 64,
   "id": "e9754362",
   "metadata": {},
   "outputs": [
    {
     "data": {
      "text/plain": [
       "'Name'"
      ]
     },
     "execution_count": 64,
     "metadata": {},
     "output_type": "execute_result"
    }
   ],
   "source": [
    "max(D4)"
   ]
  },
  {
   "cell_type": "code",
   "execution_count": 65,
   "id": "3693066b",
   "metadata": {},
   "outputs": [
    {
     "data": {
      "text/plain": [
       "['Age', 'Gender', 'Name']"
      ]
     },
     "execution_count": 65,
     "metadata": {},
     "output_type": "execute_result"
    }
   ],
   "source": [
    "sorted(D4)"
   ]
  },
  {
   "cell_type": "code",
   "execution_count": 66,
   "id": "2f31be6c",
   "metadata": {},
   "outputs": [
    {
     "data": {
      "text/plain": [
       "['Name', 'Gender', 'Age']"
      ]
     },
     "execution_count": 66,
     "metadata": {},
     "output_type": "execute_result"
    }
   ],
   "source": [
    "sorted(D4,reverse=True)"
   ]
  },
  {
   "cell_type": "code",
   "execution_count": 67,
   "id": "463af808",
   "metadata": {},
   "outputs": [
    {
     "data": {
      "text/plain": [
       "dict_keys(['Name', 'Gender', 'Age'])"
      ]
     },
     "execution_count": 67,
     "metadata": {},
     "output_type": "execute_result"
    }
   ],
   "source": [
    "#if you wants keys:\n",
    "D4.keys()"
   ]
  },
  {
   "cell_type": "code",
   "execution_count": 68,
   "id": "062662ec",
   "metadata": {},
   "outputs": [
    {
     "data": {
      "text/plain": [
       "dict_values(['Awais', 'Male', 21])"
      ]
     },
     "execution_count": 68,
     "metadata": {},
     "output_type": "execute_result"
    }
   ],
   "source": [
    "#if you wants values:\n",
    "D4.values()"
   ]
  },
  {
   "cell_type": "code",
   "execution_count": null,
   "id": "9b8b532e",
   "metadata": {},
   "outputs": [],
   "source": []
  }
 ],
 "metadata": {
  "kernelspec": {
   "display_name": "Python 3 (ipykernel)",
   "language": "python",
   "name": "python3"
  },
  "language_info": {
   "codemirror_mode": {
    "name": "ipython",
    "version": 3
   },
   "file_extension": ".py",
   "mimetype": "text/x-python",
   "name": "python",
   "nbconvert_exporter": "python",
   "pygments_lexer": "ipython3",
   "version": "3.9.13"
  }
 },
 "nbformat": 4,
 "nbformat_minor": 5
}
