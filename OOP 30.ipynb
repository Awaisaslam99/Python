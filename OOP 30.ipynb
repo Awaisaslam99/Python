{
 "cells": [
  {
   "cell_type": "markdown",
   "id": "ec724c1f",
   "metadata": {},
   "source": [
    "# Class,Objects,Constructor:"
   ]
  },
  {
   "cell_type": "code",
   "execution_count": 26,
   "id": "177f57ad",
   "metadata": {},
   "outputs": [
    {
     "name": "stdout",
     "output_type": "stream",
     "text": [
      "\n",
      "        \n",
      "        Hello, how would you like to proceed?\n",
      "        1. Enter 1 to create pin\n",
      "        2. Enter 2 to deposit\n",
      "        3. Enter 3 to withdraw\n",
      "        4. Enter 4 to check balance\n",
      "        5. Enter 5 to exit\n",
      "        \n",
      "        1\n",
      "Enter your pin1234\n",
      " pin set successfully\n"
     ]
    }
   ],
   "source": [
    "class Atm():\n",
    "    def __init__(self):\n",
    "        #The functions used inside the class ika Method\n",
    "        #to hide variable from public use __, like __pin etc...\n",
    "        self.__pin=\"\"    #instance variable\n",
    "        self.__balance=0 #instance variable\n",
    "        self.__menu()\n",
    "    def __menu(self):\n",
    "        user_input=input(\"\"\"\n",
    "        \n",
    "        Hello, how would you like to proceed?\n",
    "        1. Enter 1 to create pin\n",
    "        2. Enter 2 to deposit\n",
    "        3. Enter 3 to withdraw\n",
    "        4. Enter 4 to check balance\n",
    "        5. Enter 5 to exit\n",
    "        \n",
    "        \"\"\")\n",
    "        if user_input==\"1\":\n",
    "            self.creat_pin()\n",
    "        elif user_input==\"2\":\n",
    "            self.deposit()\n",
    "        elif user_input==\"3\":\n",
    "            self.withdraw()\n",
    "        elif user_input==\"4\":\n",
    "            self.check_balance()\n",
    "        else:\n",
    "            print('Bye')\n",
    "    def creat_pin(self):\n",
    "        self.__pin=input(\"Enter your pin\")\n",
    "        print(\" pin set successfully\")\n",
    "        \n",
    "    def deposit(self):\n",
    "        temp=input(\"Enter your pin\")\n",
    "        if temp==self.__pin:\n",
    "            amount=int(input(\"Enter amouont\"))\n",
    "            self.__balance=self.__balance+amount\n",
    "            print(\"Deposit successful\")\n",
    "        else:\n",
    "            print(\"Invalid pin\")\n",
    "    def withdraw(self):\n",
    "        temp=input(\"Enter your pin\")\n",
    "        if temp==self.__pin:\n",
    "            amount=int(input(\"Enter amouont\"))\n",
    "            if amount<self.__balance:\n",
    "                self.__balance=self.__balance-amount\n",
    "                print(\"Operation successful\")\n",
    "            else:\n",
    "                print(\"Insufficient Balance\")\n",
    "        else:\n",
    "            print(\"Invalid pin\")\n",
    "    def check_balance(self):\n",
    "        temp=input(\"Enter your pin\")\n",
    "        if temp==self.__pin:\n",
    "            print(self.__balance)\n",
    "        else:\n",
    "            print(\"Invalid pin\")\n",
    "            \n",
    "            \n",
    "        \n",
    "atm=Atm() \n"
   ]
  },
  {
   "cell_type": "code",
   "execution_count": null,
   "id": "b081be0c",
   "metadata": {},
   "outputs": [],
   "source": []
  },
  {
   "cell_type": "code",
   "execution_count": 17,
   "id": "2bbe5755",
   "metadata": {},
   "outputs": [
    {
     "name": "stdout",
     "output_type": "stream",
     "text": [
      "Enter your pin1234\n",
      "Enter amouont50000\n",
      "Deposit successful\n"
     ]
    }
   ],
   "source": [
    "atm.deposit()"
   ]
  },
  {
   "cell_type": "code",
   "execution_count": 18,
   "id": "c91a98a9",
   "metadata": {},
   "outputs": [
    {
     "name": "stdout",
     "output_type": "stream",
     "text": [
      "Enter your pin1234\n",
      "50000\n"
     ]
    }
   ],
   "source": [
    "atm.check_balance()"
   ]
  },
  {
   "cell_type": "code",
   "execution_count": 19,
   "id": "038d9b02",
   "metadata": {},
   "outputs": [
    {
     "name": "stdout",
     "output_type": "stream",
     "text": [
      "Enter your pin1234\n",
      "Enter amouont35000\n",
      "Operation successful\n"
     ]
    }
   ],
   "source": [
    "atm.withdraw()"
   ]
  },
  {
   "cell_type": "code",
   "execution_count": 20,
   "id": "e1924cdd",
   "metadata": {},
   "outputs": [
    {
     "name": "stdout",
     "output_type": "stream",
     "text": [
      "Enter your pin1234\n",
      "15000\n"
     ]
    }
   ],
   "source": [
    "atm.check_balance()"
   ]
  },
  {
   "cell_type": "markdown",
   "id": "d763cdf4",
   "metadata": {},
   "source": [
    "# How to creat own data type:\n"
   ]
  },
  {
   "cell_type": "code",
   "execution_count": 4,
   "id": "8421c944",
   "metadata": {},
   "outputs": [],
   "source": [
    "class Fraction():\n",
    "    def __init__(self, n, d):\n",
    "        self.num = n\n",
    "        self.den = d\n",
    "    \n",
    "    def __str__(self):\n",
    "        return \"{}/{}\".format(self.num, self.den)\n",
    "    \n",
    "    def __add__(self, other):\n",
    "        temp_num = self.num * other.den + other.num * self.den\n",
    "        temp_den = self.den * other.den\n",
    "        return Fraction(temp_num, temp_den)\n",
    "    \n",
    "    def __sub__(self, other):\n",
    "        temp_num = self.num * other.den - other.num * self.den\n",
    "        temp_den = self.den * other.den\n",
    "        return Fraction(temp_num, temp_den)\n",
    "    \n",
    "    def __mul__(self, other):\n",
    "        temp_num = self.num * other.num\n",
    "        temp_den = self.den * other.den\n",
    "        return Fraction(temp_num, temp_den)\n",
    "    \n",
    "    def __truediv__(self, other):\n",
    "        temp_num = self.num * other.den\n",
    "        temp_den = self.den * other.num\n",
    "        return Fraction(temp_num, temp_den)\n",
    "    \n",
    "    "
   ]
  },
  {
   "cell_type": "code",
   "execution_count": 5,
   "id": "233a9855",
   "metadata": {},
   "outputs": [
    {
     "name": "stdout",
     "output_type": "stream",
     "text": [
      "<class 'fractions.Fraction'>\n"
     ]
    }
   ],
   "source": [
    "from fractions import Fraction\n",
    "\n",
    "x = Fraction(4, 5)\n",
    "print(type(x))"
   ]
  },
  {
   "cell_type": "code",
   "execution_count": null,
   "id": "5dcdc119",
   "metadata": {},
   "outputs": [],
   "source": []
  },
  {
   "cell_type": "code",
   "execution_count": null,
   "id": "63fe10b7",
   "metadata": {},
   "outputs": [],
   "source": []
  },
  {
   "cell_type": "markdown",
   "id": "5d69067d",
   "metadata": {},
   "source": []
  },
  {
   "cell_type": "markdown",
   "id": "f3f84724",
   "metadata": {},
   "source": [
    "#  Encapsolation:\n"
   ]
  },
  {
   "cell_type": "code",
   "execution_count": null,
   "id": "52e5415c",
   "metadata": {},
   "outputs": [],
   "source": []
  },
  {
   "cell_type": "markdown",
   "id": "babcb61e",
   "metadata": {},
   "source": [
    "# Reference Variable:"
   ]
  },
  {
   "cell_type": "code",
   "execution_count": 7,
   "id": "7c91b2c1",
   "metadata": {},
   "outputs": [
    {
     "name": "stdout",
     "output_type": "stream",
     "text": [
      "Awais\n"
     ]
    }
   ],
   "source": [
    "class Customer:\n",
    "    def __init__(self, name, gender):\n",
    "        self.name = name\n",
    "        self.gender = gender\n",
    "        \n",
    "    def greet(self):\n",
    "        if self.gender == \"Male\":\n",
    "            print(\"Hello\", self.name, \"Sir\")\n",
    "        else:\n",
    "            print(\"Hello\", self.name, \"ma'am\")\n",
    "        \n",
    "cust = Customer(\"Awais\", \"Male\")\n",
    "print(cust.name)"
   ]
  },
  {
   "cell_type": "code",
   "execution_count": null,
   "id": "9994eedb",
   "metadata": {},
   "outputs": [],
   "source": []
  },
  {
   "cell_type": "code",
   "execution_count": null,
   "id": "0c6b1401",
   "metadata": {},
   "outputs": [],
   "source": []
  },
  {
   "cell_type": "markdown",
   "id": "1c10bd2b",
   "metadata": {},
   "source": [
    "# Relationship beteen classes:\n",
    "# 1.Aggrigation\n",
    "# 2.Inheritance"
   ]
  },
  {
   "cell_type": "code",
   "execution_count": 22,
   "id": "594b7a63",
   "metadata": {},
   "outputs": [
    {
     "name": "stdout",
     "output_type": "stream",
     "text": [
      "MDK\n"
     ]
    }
   ],
   "source": [
    "#Aggrigation:\n",
    "class Customer:\n",
    "    \n",
    "    def __init__(self, name, gender, address):\n",
    "        self.name = name\n",
    "        self.gender = gender\n",
    "        self.address = address\n",
    "        \n",
    "    def edit_profile(self,new_name,new_city,new_pin,new_state):\n",
    "        self.name=new_name\n",
    "        self.address.change_address(new_city,new_pin,new_state)      \n",
    "        \n",
    "class Address:\n",
    "    \n",
    "    def __init__(self, city, pincode, state):\n",
    "        self.city = city\n",
    "        self.pincode = pincode\n",
    "        self.state = state\n",
    "    def change_address(self,new_city,new_pin,new_state):\n",
    "        self.city = new_city\n",
    "        self.pincode = new_pin\n",
    "        self.state = new_state\n",
    "\n",
    "add = Address(\"Lahore\", 2211035, \"EP\")\n",
    "cust = Customer(\"Awais\", \"Male\", add)\n",
    "cust.edit_profile(\"Ravi\",\"MDK\",1234,\"Lhr\")\n",
    "\n",
    "print(cust.address.city)\n"
   ]
  },
  {
   "cell_type": "code",
   "execution_count": 23,
   "id": "e4f9171f",
   "metadata": {},
   "outputs": [
    {
     "name": "stdout",
     "output_type": "stream",
     "text": [
      "1234\n"
     ]
    }
   ],
   "source": [
    "print(cust.address.pincode)"
   ]
  },
  {
   "cell_type": "code",
   "execution_count": null,
   "id": "a0811f4f",
   "metadata": {},
   "outputs": [],
   "source": []
  },
  {
   "cell_type": "markdown",
   "id": "ffdf3401",
   "metadata": {},
   "source": [
    "# inheritance:"
   ]
  },
  {
   "cell_type": "code",
   "execution_count": 11,
   "id": "a1d0e451",
   "metadata": {},
   "outputs": [
    {
     "name": "stdout",
     "output_type": "stream",
     "text": [
      "Enroll\n",
      "Review\n",
      "Login\n",
      "Register\n"
     ]
    }
   ],
   "source": [
    "#Inheritance:\n",
    "\n",
    "#e.g...\n",
    "class User:\n",
    "    def login(self):\n",
    "        print(\"Login\")\n",
    "        \n",
    "    def register(self):\n",
    "        print(\"Register\")\n",
    "    \n",
    "class Student(User): #inhert\n",
    "    def enroll(Self):\n",
    "        print(\"Enroll\")\n",
    "    def  review(Self):\n",
    "        print(\"Review\")\n",
    "        \n",
    "stu1=Student()\n",
    "stu1.enroll()\n",
    "stu1.review()\n",
    "stu1.login()\n",
    "stu1.register()\n"
   ]
  },
  {
   "cell_type": "code",
   "execution_count": 31,
   "id": "0fcf48af",
   "metadata": {},
   "outputs": [
    {
     "name": "stdout",
     "output_type": "stream",
     "text": [
      "Apple\n",
      "2000\n",
      "13\n"
     ]
    }
   ],
   "source": [
    "#e.g..\n",
    "class Phone:\n",
    "    def __init__(self,price,brand,camera):\n",
    "        self.price=price\n",
    "        self.brand=brand\n",
    "        self.camera=camera\n",
    "class Smartphone(Phone):\n",
    "    pass\n",
    "\n",
    "s=Smartphone(2000,\"Apple\",13)\n",
    "print(s.brand)\n",
    "print(s.price)\n",
    "print(s.camera)"
   ]
  },
  {
   "cell_type": "code",
   "execution_count": 35,
   "id": "f649fca5",
   "metadata": {},
   "outputs": [
    {
     "ename": "AttributeError",
     "evalue": "'Smartphone' object has no attribute 'price'",
     "output_type": "error",
     "traceback": [
      "\u001b[1;31m---------------------------------------------------------------------------\u001b[0m",
      "\u001b[1;31mAttributeError\u001b[0m                            Traceback (most recent call last)",
      "\u001b[1;32m~\\AppData\\Local\\Temp\\ipykernel_7432\\3449387145.py\u001b[0m in \u001b[0;36m<module>\u001b[1;34m\u001b[0m\n\u001b[0;32m     10\u001b[0m \u001b[0ms\u001b[0m\u001b[1;33m=\u001b[0m\u001b[0mSmartphone\u001b[0m\u001b[1;33m(\u001b[0m\u001b[1;36m2000\u001b[0m\u001b[1;33m,\u001b[0m\u001b[1;34m\"Apple\"\u001b[0m\u001b[1;33m,\u001b[0m\u001b[1;36m13\u001b[0m\u001b[1;33m)\u001b[0m\u001b[1;33m\u001b[0m\u001b[1;33m\u001b[0m\u001b[0m\n\u001b[0;32m     11\u001b[0m \u001b[1;33m\u001b[0m\u001b[0m\n\u001b[1;32m---> 12\u001b[1;33m \u001b[0mprint\u001b[0m\u001b[1;33m(\u001b[0m\u001b[0ms\u001b[0m\u001b[1;33m.\u001b[0m\u001b[0mprice\u001b[0m\u001b[1;33m)\u001b[0m\u001b[1;33m\u001b[0m\u001b[1;33m\u001b[0m\u001b[0m\n\u001b[0m",
      "\u001b[1;31mAttributeError\u001b[0m: 'Smartphone' object has no attribute 'price'"
     ]
    }
   ],
   "source": [
    "#e.g..\n",
    "class Phone:\n",
    "    def __init__(self,price,brand,camera):\n",
    "        self.__price=price        #child class never access the private data members of parent class... \n",
    "        self.brand=brand\n",
    "        self.camera=camera\n",
    "class Smartphone(Phone):\n",
    "    pass\n",
    "\n",
    "s=Smartphone(2000,\"Apple\",13)\n",
    "\n",
    "print(s.price)\n"
   ]
  },
  {
   "cell_type": "code",
   "execution_count": 28,
   "id": "54697938",
   "metadata": {},
   "outputs": [
    {
     "name": "stdout",
     "output_type": "stream",
     "text": [
      "Inside phone constructor\n",
      "Buying a phone\n"
     ]
    }
   ],
   "source": [
    "#e.g..\n",
    "class Phone:\n",
    "    def __init__(self,price,brand,camera):\n",
    "        print(\"Inside phone constructor\")\n",
    "        self.price=price\n",
    "        self.brand=brand\n",
    "        self.camera=camera\n",
    "        \n",
    "    def buy(self):\n",
    "        print(\"Buying a phone\")\n",
    "        \n",
    "class Smartphone(Phone):\n",
    "    def buy(self):\n",
    "        print(\"Buying a phone\")\n",
    "        \n",
    "s= Smartphone(20000,\"apple\",12)\n",
    "\n",
    "s.buy()\n",
    "    \n",
    "    #Method overriding: dono classes ma same method ha ..buy.. \n",
    "    #so, child always call their own Method insted of parent method this process ika Method overriding."
   ]
  },
  {
   "cell_type": "code",
   "execution_count": 38,
   "id": "67f8ea4c",
   "metadata": {},
   "outputs": [
    {
     "name": "stdout",
     "output_type": "stream",
     "text": [
      "100\n",
      "This is in Child class\n"
     ]
    }
   ],
   "source": [
    "#e.g..\n",
    "class Parent:\n",
    "    def __init__(self,num):\n",
    "        self.num=num\n",
    "        \n",
    "    def get_num(self):\n",
    "        return self.num\n",
    "    \n",
    "class Child(Parent):\n",
    "    def show(self):\n",
    "        print(\"This is in Child class\")\n",
    "        \n",
    "son= Child(100)\n",
    "print(son.get_num())\n",
    "son.show()"
   ]
  },
  {
   "cell_type": "code",
   "execution_count": null,
   "id": "d9c5cab7",
   "metadata": {},
   "outputs": [],
   "source": [
    "# e.g..\n",
    "class A:\n",
    "    def __init__(self):\n",
    "        self.var1=100\n",
    "        \n",
    "    def display(self,var1):\n",
    "        print(\"Class A:\",self.var1)\n",
    "class B(A):\n",
    "    def display2(self,var1):\n",
    "        print(\"Class B\",self.var1)\n",
    "s=B()\n",
    "s.display(200)"
   ]
  },
  {
   "cell_type": "code",
   "execution_count": 56,
   "id": "f46e7882",
   "metadata": {},
   "outputs": [
    {
     "name": "stdout",
     "output_type": "stream",
     "text": [
      "Inside phone constructor\n",
      "Buying a phone\n",
      "Buying a phone\n"
     ]
    }
   ],
   "source": [
    "#Super key word..e.g..\n",
    "#by using super key word we can access just parent constructor and Method.\n",
    "#butt we can't access parent attributes.\n",
    "class Phone:\n",
    "    def __init__(self,price,brand,camera):\n",
    "        print(\"Inside phone constructor\")\n",
    "        self.price=price\n",
    "        self.brand=brand\n",
    "        self.camera=camera\n",
    "        \n",
    "    def buy(self):\n",
    "        print(\"Buying a phone\")\n",
    "    \n",
    "class Smartphone(Phone):\n",
    "     \n",
    "    def buy(self):\n",
    "        print(\"Buying a phone\")\n",
    "        super().buy()               \n",
    "        #by using super key word we can access just parent constructor and Method. \n",
    "        #but we can't access parent attributes.\n",
    "        \n",
    "s=Smartphone(2000,\"appple\",13)\n",
    "s.buy()\n",
    "        "
   ]
  },
  {
   "cell_type": "code",
   "execution_count": 49,
   "id": "84db63a3",
   "metadata": {},
   "outputs": [
    {
     "name": "stdout",
     "output_type": "stream",
     "text": [
      "pehly yahan\n",
      "Inside phone constructor\n",
      "Inside smartphone constructor\n",
      "2000\n",
      "apple\n",
      "13\n",
      "Android\n",
      "2\n"
     ]
    }
   ],
   "source": [
    "#Super key word..e.g..\n",
    "class Phone:\n",
    "    def __init__(self,price,brand,camera):\n",
    "        print(\"Inside phone constructor\")\n",
    "        self.price=price\n",
    "        self.brand=brand\n",
    "        self.camera=camera\n",
    "        \n",
    "class Smartphone(Phone):\n",
    "    def __init__(self,price,brand,camera,os,ram):\n",
    "        print(\"pehly yahan\")\n",
    "        super().__init__(price,brand,camera)\n",
    "        #by using super key word we can access just parent constructor and Method.\n",
    "        #butt we can't access parent attributes.\n",
    "        self.os=os\n",
    "        self.ram=ram\n",
    "        print(\"Inside smartphone constructor\")\n",
    "        \n",
    "s=Smartphone(2000,\"apple\",13,\"Android\",2)\n",
    "print(s.price)\n",
    "print(s.brand)\n",
    "print(s.camera)\n",
    "print(s.os)\n",
    "print(s.ram)"
   ]
  },
  {
   "cell_type": "code",
   "execution_count": null,
   "id": "87426b05",
   "metadata": {},
   "outputs": [],
   "source": []
  },
  {
   "cell_type": "code",
   "execution_count": 52,
   "id": "d859200b",
   "metadata": {},
   "outputs": [
    {
     "name": "stdout",
     "output_type": "stream",
     "text": [
      "100\n",
      "200\n"
     ]
    }
   ],
   "source": [
    "#Super key word..e.g..\n",
    "class Parent:\n",
    "    def __init__(self,num):\n",
    "        self.__num=num\n",
    "        \n",
    "    def get_num(self):\n",
    "        return self.__num\n",
    "class Child(Parent):\n",
    "    def __init__(self,num,val):\n",
    "        super().__init__(num)\n",
    "        self.__val=val\n",
    "        \n",
    "    def get_val(self):\n",
    "        return self.__val\n",
    "    \n",
    "s=Child(100,200)\n",
    "print(s.get_num())\n",
    "print(s.get_val())"
   ]
  },
  {
   "cell_type": "code",
   "execution_count": 54,
   "id": "3b5c1ade",
   "metadata": {},
   "outputs": [
    {
     "name": "stdout",
     "output_type": "stream",
     "text": [
      "100\n",
      "200\n"
     ]
    }
   ],
   "source": [
    "#Super key word..e.g..\n",
    "class Parent:\n",
    "    def __init__(self):\n",
    "        self.num=100\n",
    "        \n",
    "class Child(Parent):\n",
    "    def __init__(self):\n",
    "        super().__init__()\n",
    "        self.var=200\n",
    "    def show(self):\n",
    "        print(self.num)\n",
    "        print(self.var)\n",
    "        \n",
    "s=Child()\n",
    "s.show()"
   ]
  },
  {
   "cell_type": "code",
   "execution_count": 55,
   "id": "eb2e048f",
   "metadata": {},
   "outputs": [
    {
     "name": "stdout",
     "output_type": "stream",
     "text": [
      "Parent: 100\n",
      "Child: 10\n"
     ]
    }
   ],
   "source": [
    "#Super key word..e.g..\n",
    "class Parent:\n",
    "    def __init__(self):\n",
    "        self.__num=100\n",
    "    def show(self):\n",
    "        print(\"Parent:\",self.__num)\n",
    "        \n",
    "class Child(Parent):\n",
    "    def __init__(self):\n",
    "        super().__init__()\n",
    "        self.__var=10\n",
    "    def show(self):\n",
    "        print(\"Child:\",self.__var)\n",
    "       \n",
    "d=Parent()\n",
    "d.show()\n",
    "s=Child()\n",
    "s.show()"
   ]
  },
  {
   "cell_type": "code",
   "execution_count": null,
   "id": "63ad712f",
   "metadata": {},
   "outputs": [],
   "source": []
  },
  {
   "cell_type": "markdown",
   "id": "d943363e",
   "metadata": {},
   "source": [
    "# Types of inheritance:\n",
    "# 1. Single level\n",
    "# 2. Multi-level\n",
    "# 3. Hierarchical\n",
    "# 4. Multiple\n",
    "# 5. Hybrid"
   ]
  },
  {
   "cell_type": "code",
   "execution_count": 57,
   "id": "0373df11",
   "metadata": {},
   "outputs": [
    {
     "name": "stdout",
     "output_type": "stream",
     "text": [
      "Inside phone constructor\n",
      "Buying a phone\n",
      "Buying a phone\n"
     ]
    }
   ],
   "source": [
    "# single Level inhertance:\n",
    "class Phone:\n",
    "    def __init__(self,price,brand,camera):\n",
    "        print(\"Inside phone constructor\")\n",
    "        self.price=price\n",
    "        self.brand=brand\n",
    "        self.camera=camera\n",
    "    def buy(self):\n",
    "        print(\"Buying a phone\")\n",
    "class Smartphone(Phone):\n",
    "    def buy(self):\n",
    "        print(\"Buying a phone\")\n",
    "        super().buy()                \n",
    "s=Smartphone(2000,\"appple\",13)\n",
    "s.buy()"
   ]
  },
  {
   "cell_type": "code",
   "execution_count": 59,
   "id": "80bc90ab",
   "metadata": {},
   "outputs": [
    {
     "name": "stdout",
     "output_type": "stream",
     "text": [
      "Inside phone constructor\n",
      "Inside phone constructor\n",
      "Buying a phone\n",
      "Product customer review\n",
      "Product customer review\n"
     ]
    }
   ],
   "source": [
    "#Multi level:\n",
    "class Product:\n",
    "    def review(self):\n",
    "        print(\"Product customer review\")\n",
    "class Phone(Product):\n",
    "    def __init__(self,price,brand,camera):\n",
    "        print(\"Inside phone constructor\")\n",
    "        self.price=price\n",
    "        self.brand=brand\n",
    "        self.camera=camera\n",
    "    def buy(self):\n",
    "        print(\"Buying a phone\")\n",
    "class Smartphone(Phone):\n",
    "    pass\n",
    "s=Smartphone(2000,\"apple\",12)\n",
    "p=Phone(1000,\"samsung\",11)\n",
    "s.buy()\n",
    "s.review()\n",
    "p.review()"
   ]
  },
  {
   "cell_type": "code",
   "execution_count": null,
   "id": "88d25e1c",
   "metadata": {},
   "outputs": [],
   "source": [
    "#Hierarchical:\n"
   ]
  },
  {
   "cell_type": "code",
   "execution_count": 60,
   "id": "df7876bb",
   "metadata": {},
   "outputs": [
    {
     "name": "stdout",
     "output_type": "stream",
     "text": [
      "Inside phone constructor\n",
      "Buying a phone\n",
      "Customer review\n"
     ]
    }
   ],
   "source": [
    "#Multiple:\n",
    "class Phone:\n",
    "    def __init__(self,price,brand,camera):\n",
    "        print(\"Inside phone constructor\")\n",
    "        self.price=price\n",
    "        self.brand=brand\n",
    "        self.camera=camera\n",
    "    def buy(self):\n",
    "        print(\"Buying a phone\")\n",
    "   \n",
    "class Product:\n",
    "    def review(self):\n",
    "        print(\"Customer review\")\n",
    "    \n",
    "class Smartphone(Phone,Product):\n",
    "    pass\n",
    "s=Smartphone(2000,\"apple\",12)\n",
    "\n",
    "s.buy()\n",
    "s.review()\n"
   ]
  },
  {
   "cell_type": "code",
   "execution_count": null,
   "id": "76afa544",
   "metadata": {},
   "outputs": [],
   "source": [
    "# polymorphism:\n",
    "#1.Method overriding..\n",
    "#2.Method overloading..\n",
    "#3.Operator overloading.."
   ]
  },
  {
   "cell_type": "code",
   "execution_count": 66,
   "id": "f941934d",
   "metadata": {},
   "outputs": [
    {
     "name": "stdout",
     "output_type": "stream",
     "text": [
      "Circle 50.24\n",
      "Rect 15\n"
     ]
    }
   ],
   "source": [
    "#Method overloading..\n",
    "class Geometry:\n",
    "    def area(self,a,b=0):\n",
    "        if b==0:\n",
    "            print(\"Circle\",3.14*a*a)\n",
    "        else:\n",
    "            print(\"Rect\",a*b)\n",
    "       \n",
    "obj=Geometry()\n",
    "obj.area(4)\n",
    "obj.area(3,5)"
   ]
  },
  {
   "cell_type": "code",
   "execution_count": null,
   "id": "1c4ab8bc",
   "metadata": {},
   "outputs": [],
   "source": [
    "#Operator overloading..\n"
   ]
  },
  {
   "cell_type": "markdown",
   "id": "e852ba22",
   "metadata": {},
   "source": [
    "# Project:"
   ]
  },
  {
   "cell_type": "code",
   "execution_count": null,
   "id": "48fb2f16",
   "metadata": {},
   "outputs": [],
   "source": []
  },
  {
   "cell_type": "code",
   "execution_count": null,
   "id": "f8b6cc0b",
   "metadata": {},
   "outputs": [],
   "source": []
  },
  {
   "cell_type": "code",
   "execution_count": null,
   "id": "51048561",
   "metadata": {},
   "outputs": [],
   "source": []
  },
  {
   "cell_type": "code",
   "execution_count": null,
   "id": "443b4b76",
   "metadata": {},
   "outputs": [],
   "source": []
  }
 ],
 "metadata": {
  "kernelspec": {
   "display_name": "Python 3 (ipykernel)",
   "language": "python",
   "name": "python3"
  },
  "language_info": {
   "codemirror_mode": {
    "name": "ipython",
    "version": 3
   },
   "file_extension": ".py",
   "mimetype": "text/x-python",
   "name": "python",
   "nbconvert_exporter": "python",
   "pygments_lexer": "ipython3",
   "version": "3.9.13"
  }
 },
 "nbformat": 4,
 "nbformat_minor": 5
}
