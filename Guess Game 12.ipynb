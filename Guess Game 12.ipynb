{
 "cells": [
  {
   "cell_type": "code",
   "execution_count": 15,
   "id": "2ae3965e",
   "metadata": {},
   "outputs": [
    {
     "data": {
      "text/plain": [
       "29"
      ]
     },
     "execution_count": 15,
     "metadata": {},
     "output_type": "execute_result"
    }
   ],
   "source": [
    "import random\n",
    "random.randint(1,100)"
   ]
  },
  {
   "cell_type": "code",
   "execution_count": 4,
   "id": "21a41559",
   "metadata": {},
   "outputs": [
    {
     "name": "stdout",
     "output_type": "stream",
     "text": [
      "Guess Number :50\n",
      "Guess Higher\n",
      "Guess Number :70\n",
      "Guess Lower\n",
      "Guess Number :65\n",
      "Guess Lower\n",
      "Guess Number :5\n",
      "Guess Higher\n",
      "Guess Number :55\n",
      "Guess Lower\n",
      "Guess Number :53\n",
      "Guess Lower\n",
      "Guess Number :51\n",
      "Guess Higher\n",
      "Guess Number :52\n",
      "Correct Answer\n",
      "You took 2 Attemps\n"
     ]
    }
   ],
   "source": [
    "import random\n",
    "jackpot=random.randint(1,100)\n",
    "guess=int(input(\"Guess Number :\"))\n",
    "counter=1\n",
    "\n",
    "\n",
    "while guess!=jackpot:\n",
    "    if guess<jackpot:\n",
    "        print(\"Guess Higher\")\n",
    "    else:\n",
    "        print(\"Guess Lower\")\n",
    "        \n",
    "    guess=int(input(\"Guess Number :\"))\n",
    "    counter+=1\n",
    "print(\"Correct Answer\")\n",
    "print(\"You took\" , counter,\"Attemps\")"
   ]
  },
  {
   "cell_type": "code",
   "execution_count": null,
   "id": "90177488",
   "metadata": {},
   "outputs": [],
   "source": []
  },
  {
   "cell_type": "code",
   "execution_count": null,
   "id": "f89bc446",
   "metadata": {},
   "outputs": [],
   "source": []
  },
  {
   "cell_type": "code",
   "execution_count": null,
   "id": "8be0c70a",
   "metadata": {},
   "outputs": [],
   "source": []
  }
 ],
 "metadata": {
  "kernelspec": {
   "display_name": "Python 3 (ipykernel)",
   "language": "python",
   "name": "python3"
  },
  "language_info": {
   "codemirror_mode": {
    "name": "ipython",
    "version": 3
   },
   "file_extension": ".py",
   "mimetype": "text/x-python",
   "name": "python",
   "nbconvert_exporter": "python",
   "pygments_lexer": "ipython3",
   "version": "3.9.13"
  }
 },
 "nbformat": 4,
 "nbformat_minor": 5
}
