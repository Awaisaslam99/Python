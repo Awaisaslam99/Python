{
 "cells": [
  {
   "cell_type": "code",
   "execution_count": 5,
   "id": "65572ad3",
   "metadata": {},
   "outputs": [
    {
     "name": "stdout",
     "output_type": "stream",
     "text": [
      "H\n"
     ]
    }
   ],
   "source": [
    "#positive indexing:\n",
    "c='Heloo'\n",
    "print(c[0])"
   ]
  },
  {
   "cell_type": "code",
   "execution_count": 3,
   "id": "8a8d48a0",
   "metadata": {},
   "outputs": [
    {
     "name": "stdout",
     "output_type": "stream",
     "text": [
      "w\n"
     ]
    }
   ],
   "source": [
    "#negative indexing:\n",
    "a='world'\n",
    "print(a[-0])"
   ]
  },
  {
   "cell_type": "code",
   "execution_count": 9,
   "id": "3fa0e880",
   "metadata": {},
   "outputs": [
    {
     "name": "stdout",
     "output_type": "stream",
     "text": [
      "llo world\n"
     ]
    }
   ],
   "source": [
    "#slicing:\n",
    "w='Hello world'\n",
    "print(w[2:])"
   ]
  },
  {
   "cell_type": "code",
   "execution_count": 10,
   "id": "002bbe08",
   "metadata": {},
   "outputs": [
    {
     "name": "stdout",
     "output_type": "stream",
     "text": [
      "Hell\n"
     ]
    }
   ],
   "source": [
    "print(w[0:4])"
   ]
  },
  {
   "cell_type": "code",
   "execution_count": 11,
   "id": "2eec0961",
   "metadata": {},
   "outputs": [
    {
     "name": "stdout",
     "output_type": "stream",
     "text": [
      "Hell\n"
     ]
    }
   ],
   "source": [
    "print(w[:4])"
   ]
  },
  {
   "cell_type": "code",
   "execution_count": 12,
   "id": "1f00e085",
   "metadata": {},
   "outputs": [
    {
     "name": "stdout",
     "output_type": "stream",
     "text": [
      "Hello world\n"
     ]
    }
   ],
   "source": [
    "print(w[:])"
   ]
  },
  {
   "cell_type": "code",
   "execution_count": 13,
   "id": "b7cf1cb8",
   "metadata": {},
   "outputs": [
    {
     "name": "stdout",
     "output_type": "stream",
     "text": [
      "lo\n"
     ]
    }
   ],
   "source": [
    "print(w[2:6:2])"
   ]
  },
  {
   "cell_type": "code",
   "execution_count": 14,
   "id": "5d924cbb",
   "metadata": {},
   "outputs": [
    {
     "name": "stdout",
     "output_type": "stream",
     "text": [
      "Hlw\n"
     ]
    }
   ],
   "source": [
    "print(w[0:8:3])"
   ]
  },
  {
   "cell_type": "code",
   "execution_count": 16,
   "id": "2dc80d92",
   "metadata": {},
   "outputs": [
    {
     "name": "stdout",
     "output_type": "stream",
     "text": [
      "\n"
     ]
    }
   ],
   "source": [
    "print(w[0:6:-1])"
   ]
  },
  {
   "cell_type": "code",
   "execution_count": 17,
   "id": "f9137efa",
   "metadata": {},
   "outputs": [
    {
     "name": "stdout",
     "output_type": "stream",
     "text": [
      "wr\n"
     ]
    }
   ],
   "source": [
    "print(w[-5:-1:2])"
   ]
  },
  {
   "cell_type": "code",
   "execution_count": 20,
   "id": "accf8951",
   "metadata": {},
   "outputs": [
    {
     "name": "stdout",
     "output_type": "stream",
     "text": [
      "dlrow olleH\n"
     ]
    }
   ],
   "source": [
    "print(w[::-1])"
   ]
  },
  {
   "cell_type": "code",
   "execution_count": 21,
   "id": "7fb1619e",
   "metadata": {},
   "outputs": [
    {
     "name": "stdout",
     "output_type": "stream",
     "text": [
      "dlro\n"
     ]
    }
   ],
   "source": [
    "print(w[-1:-5:-1])"
   ]
  },
  {
   "cell_type": "code",
   "execution_count": null,
   "id": "f7a2f373",
   "metadata": {},
   "outputs": [],
   "source": []
  }
 ],
 "metadata": {
  "kernelspec": {
   "display_name": "Python 3 (ipykernel)",
   "language": "python",
   "name": "python3"
  },
  "language_info": {
   "codemirror_mode": {
    "name": "ipython",
    "version": 3
   },
   "file_extension": ".py",
   "mimetype": "text/x-python",
   "name": "python",
   "nbconvert_exporter": "python",
   "pygments_lexer": "ipython3",
   "version": "3.9.13"
  }
 },
 "nbformat": 4,
 "nbformat_minor": 5
}
