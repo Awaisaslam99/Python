{
 "cells": [
  {
   "cell_type": "markdown",
   "id": "ac617687",
   "metadata": {},
   "source": [
    "# Generator:"
   ]
  },
  {
   "cell_type": "code",
   "execution_count": null,
   "id": "4b927a5a",
   "metadata": {},
   "outputs": [],
   "source": [
    "# Python generators are simple way to creating iterators..\n",
    "\n",
    "# OR: A Python generator function allows you to declare a function that behaves like an iterator, providing a faster \n",
    "# and easier way to create iterators. "
   ]
  },
  {
   "cell_type": "markdown",
   "id": "e4162507",
   "metadata": {},
   "source": [
    "diff betwee normal function and generator function in python.."
   ]
  },
  {
   "cell_type": "code",
   "execution_count": 6,
   "id": "a386e63a",
   "metadata": {},
   "outputs": [],
   "source": [
    "# Generator functions are defined as the normal function, but to identify the difference between the normal function\n",
    "# and generator function is that in the normal function, we use the return keyword to return the values, \n",
    "# and in the generator function, instead of using the return, we use yield to execute our iterator."
   ]
  },
  {
   "cell_type": "code",
   "execution_count": 7,
   "id": "408f09df",
   "metadata": {},
   "outputs": [
    {
     "name": "stdout",
     "output_type": "stream",
     "text": [
      "1st statement\n",
      "2nd statement\n",
      "3rd statement\n"
     ]
    }
   ],
   "source": [
    "\n",
    "def gen_demo():\n",
    "     # there is no return statement in generators only yield statement...\n",
    "        \n",
    "    yield '1st statement'\n",
    "    yield '2nd statement'\n",
    "    yield '3rd statement'\n",
    "    \n",
    "g= gen_demo()     # when we call the generator it give us a generator object..\n",
    "\n",
    "\n",
    "# to call the funnction in generator use 'next()' or 'for loop'\n",
    "\n",
    "# to print items in generators use 'next()' function..\n",
    "#print(next(g))\n",
    "#print(next(g))\n",
    "#print(next(g))\n",
    "#print(next(g))               # it through error \"StopIteration\" becozz we have only three generators..\n",
    "\n",
    "\n",
    "# also use loop for same output..\n",
    "for i in g:\n",
    "    print(i)"
   ]
  },
  {
   "cell_type": "markdown",
   "id": "c4ea508f",
   "metadata": {},
   "source": [
    "# yield vs return:"
   ]
  },
  {
   "cell_type": "code",
   "execution_count": null,
   "id": "dd2d2fb1",
   "metadata": {},
   "outputs": [],
   "source": [
    "# The yield statement produces a generator object and can return multiple values to the caller without terminating the \n",
    "# program, whereas a return statement is used to return a value to the caller from within a function and \n",
    "# it terminates the program."
   ]
  },
  {
   "cell_type": "code",
   "execution_count": null,
   "id": "fcc57e42",
   "metadata": {},
   "outputs": [],
   "source": [
    "# Yield example...\n",
    "\n",
    "def gen(num):\n",
    "\n",
    "    for i in range(1,num+1):\n",
    "        yield i**2\n",
    "g= gen(5)\n",
    "\n",
    "print(next(g))\n",
    "print(next(g))\n",
    "print(next(g))\n",
    "\n",
    "# for loop wohi se start kry ga jha se \"next()\" na chora tha....\n",
    "for i in g:\n",
    "    print(i)"
   ]
  },
  {
   "cell_type": "code",
   "execution_count": null,
   "id": "a7f47cce",
   "metadata": {},
   "outputs": [],
   "source": [
    "\n",
    "\n"
   ]
  },
  {
   "cell_type": "markdown",
   "id": "a40e7095",
   "metadata": {},
   "source": [
    "# range function using iterators...."
   ]
  },
  {
   "cell_type": "code",
   "execution_count": 9,
   "id": "6898a928",
   "metadata": {},
   "outputs": [
    {
     "name": "stdout",
     "output_type": "stream",
     "text": [
      "1\n",
      "2\n",
      "3\n",
      "4\n",
      "5\n",
      "6\n",
      "7\n",
      "8\n",
      "9\n",
      "10\n"
     ]
    }
   ],
   "source": [
    "class ourrange():\n",
    "    def __init__(self,start,end):\n",
    "        self.start=start\n",
    "        self.end=end\n",
    "        \n",
    "    def __iter__(self):\n",
    "        return ourrange_iterator(self)\n",
    "    \n",
    "class ourrange_iterator():\n",
    "    def __init__(self,iterable_obj):\n",
    "        self.iterable=iterable_obj\n",
    "        \n",
    "    def __iter__(self):\n",
    "        return self\n",
    "    \n",
    "    def __next__(self):\n",
    "        if self.iterable.start>=self.iterable.end:\n",
    "            raise StopIteration\n",
    "        current= self.iterable.start\n",
    "        self.iterable.start += 1\n",
    "        return current\n",
    "x= ourrange(1,11)        \n",
    "for i in x:\n",
    "    print(i) "
   ]
  },
  {
   "cell_type": "markdown",
   "id": "1df891da",
   "metadata": {},
   "source": [
    "# range function using generator..."
   ]
  },
  {
   "cell_type": "code",
   "execution_count": 10,
   "id": "01ea6c76",
   "metadata": {},
   "outputs": [
    {
     "name": "stdout",
     "output_type": "stream",
     "text": [
      "15\n",
      "16\n",
      "17\n",
      "18\n",
      "19\n",
      "20\n",
      "21\n",
      "22\n",
      "23\n",
      "24\n",
      "25\n"
     ]
    }
   ],
   "source": [
    "\n",
    "def ourrange(start,end):\n",
    "    for i in range(start,end):\n",
    "        yield i\n",
    "        \n",
    "a= ourrange(15,26)\n",
    "\n",
    "for i in a:\n",
    "    print(i)"
   ]
  },
  {
   "cell_type": "markdown",
   "id": "e1c0f985",
   "metadata": {},
   "source": [
    "generator expresion:"
   ]
  },
  {
   "cell_type": "code",
   "execution_count": 11,
   "id": "6e28ba0e",
   "metadata": {},
   "outputs": [
    {
     "name": "stdout",
     "output_type": "stream",
     "text": [
      "[1, 4, 9, 16, 25, 36, 49, 64, 81, 100, 121, 144, 169, 196]\n"
     ]
    }
   ],
   "source": [
    "# list comprehension:\n",
    "\n",
    "L=[i**2 for i in range(1,15)]\n",
    "print(L)"
   ]
  },
  {
   "cell_type": "code",
   "execution_count": 12,
   "id": "6b5c0b82",
   "metadata": {},
   "outputs": [
    {
     "name": "stdout",
     "output_type": "stream",
     "text": [
      "1\n",
      "4\n",
      "9\n",
      "16\n",
      "25\n"
     ]
    }
   ],
   "source": [
    "# generator expresion means simple expression....\n",
    "\n",
    "gen= (i**2 for i in range(1,6))\n",
    "for i in gen:\n",
    "    print(i)"
   ]
  },
  {
   "cell_type": "code",
   "execution_count": null,
   "id": "66a3a401",
   "metadata": {},
   "outputs": [],
   "source": []
  },
  {
   "cell_type": "markdown",
   "id": "0447ef46",
   "metadata": {},
   "source": [
    "# Benefits of using Generators:"
   ]
  },
  {
   "cell_type": "markdown",
   "id": "076c3c86",
   "metadata": {},
   "source": [
    "1-Ease of implementation:"
   ]
  },
  {
   "cell_type": "code",
   "execution_count": 16,
   "id": "52b7a61c",
   "metadata": {},
   "outputs": [],
   "source": [
    "\n",
    "# see range function using iterators and range function using generator...."
   ]
  },
  {
   "cell_type": "markdown",
   "id": "3dc3ab09",
   "metadata": {},
   "source": [
    "2- Memory efficient.."
   ]
  },
  {
   "cell_type": "code",
   "execution_count": 13,
   "id": "82209336",
   "metadata": {},
   "outputs": [
    {
     "name": "stdout",
     "output_type": "stream",
     "text": [
      "Size of list in memory:  800984\n",
      "Size of generator in memory:  112\n"
     ]
    }
   ],
   "source": [
    "\n",
    "\n",
    "L=[x for x in range(1,100000)]\n",
    "\n",
    "gen=(x for x in range(1,10000))       # generators memory ko bacha leta ha , but list use krta ha...\n",
    "                    \n",
    "import sys\n",
    "\n",
    "print(\"Size of list in memory: \",sys.getsizeof(L))\n",
    "\n",
    "print(\"Size of generator in memory: \",sys.getsizeof(gen))"
   ]
  },
  {
   "cell_type": "markdown",
   "id": "62eb147a",
   "metadata": {},
   "source": [
    "3- Representing infinite streams."
   ]
  },
  {
   "cell_type": "code",
   "execution_count": 14,
   "id": "335e004a",
   "metadata": {},
   "outputs": [
    {
     "name": "stdout",
     "output_type": "stream",
     "text": [
      "0\n",
      "2\n"
     ]
    }
   ],
   "source": [
    "\n",
    "\n",
    "def all_even():\n",
    "    n=0\n",
    "    while True:\n",
    "        yield n\n",
    "        n += 2\n",
    "\n",
    "g= all_even()\n",
    "print(next(g))\n",
    "print(next(g))"
   ]
  },
  {
   "cell_type": "markdown",
   "id": "71abd8ba",
   "metadata": {},
   "source": [
    " 4- Chaining Generators..."
   ]
  },
  {
   "cell_type": "code",
   "execution_count": 15,
   "id": "556eef8e",
   "metadata": {},
   "outputs": [
    {
     "name": "stdout",
     "output_type": "stream",
     "text": [
      "143\n"
     ]
    }
   ],
   "source": [
    "\n",
    "\n",
    "def fibonacci_num(nums):\n",
    "    x,y=0,1\n",
    "    \n",
    "    for _ in range(nums):\n",
    "        x,y= y, x+y\n",
    "        yield x\n",
    "        \n",
    "def  square(nums):\n",
    "    for num in nums:\n",
    "        yield num**2\n",
    "        \n",
    "print(sum(fibonacci_num(10)))"
   ]
  },
  {
   "cell_type": "code",
   "execution_count": null,
   "id": "75727bac",
   "metadata": {},
   "outputs": [],
   "source": []
  },
  {
   "cell_type": "code",
   "execution_count": null,
   "id": "e894ddca",
   "metadata": {},
   "outputs": [],
   "source": []
  }
 ],
 "metadata": {
  "kernelspec": {
   "display_name": "Python 3 (ipykernel)",
   "language": "python",
   "name": "python3"
  },
  "language_info": {
   "codemirror_mode": {
    "name": "ipython",
    "version": 3
   },
   "file_extension": ".py",
   "mimetype": "text/x-python",
   "name": "python",
   "nbconvert_exporter": "python",
   "pygments_lexer": "ipython3",
   "version": "3.9.13"
  }
 },
 "nbformat": 4,
 "nbformat_minor": 5
}
