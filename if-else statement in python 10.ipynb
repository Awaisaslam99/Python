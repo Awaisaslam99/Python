{
 "cells": [
  {
   "cell_type": "code",
   "execution_count": 28,
   "id": "a50bef6b",
   "metadata": {},
   "outputs": [
    {
     "name": "stdout",
     "output_type": "stream",
     "text": [
      "Enter email:abc\n",
      "Enter password:123456\n",
      "Incorrect password\n",
      "Try again123\n",
      "Finally correcrt\n"
     ]
    }
   ],
   "source": [
    "email=input(\"Enter email:\")\n",
    "password=input(\"Enter password:\")\n",
    "\n",
    "if email==\"abc\" and password==\"123\":\n",
    "    print(\"Welcome\")\n",
    "elif email==\"abc\" and password!=\"123\":\n",
    "    print(\"Incorrect password\")\n",
    "    password=input(\"Try again\")\n",
    "    if password==\"123\":\n",
    "        print(\"Finally correcrt\")\n",
    "    else:\n",
    "        print(\"Still incorrect\")\n",
    "else:\n",
    "    print(\"Incorrect credential\")"
   ]
  },
  {
   "cell_type": "code",
   "execution_count": 7,
   "id": "56fec9b3",
   "metadata": {},
   "outputs": [
    {
     "name": "stdout",
     "output_type": "stream",
     "text": [
      "Enter email:dfxgc\n",
      "email is incorrect\n"
     ]
    }
   ],
   "source": [
    "email=input(\"Enter email:\")\n",
    "\n",
    "if '@' in email:\n",
    "    password=input(\"Enter password:\")\n",
    "\n",
    "    if email==\"@abc\" and password==\"123\":\n",
    "        print(\"Welcome\")\n",
    "    elif email==\"@abc\" and password!=\"123\":\n",
    "        print(\"Incorrect password\")\n",
    "        password=input(\"Try again\")\n",
    "        if password==\"123\":\n",
    "            print(\"Finally correcrt\")\n",
    "        else:\n",
    "            print(\"Still incorrect\")\n",
    "    else:\n",
    "        print(\"Incorrect credential\")\n",
    "\n",
    "\n",
    "\n",
    "else:\n",
    "    print(\"email is incorrect\")"
   ]
  },
  {
   "cell_type": "code",
   "execution_count": null,
   "id": "7b2296c5",
   "metadata": {},
   "outputs": [],
   "source": []
  },
  {
   "cell_type": "code",
   "execution_count": null,
   "id": "ecd20337",
   "metadata": {},
   "outputs": [],
   "source": []
  }
 ],
 "metadata": {
  "kernelspec": {
   "display_name": "Python 3 (ipykernel)",
   "language": "python",
   "name": "python3"
  },
  "language_info": {
   "codemirror_mode": {
    "name": "ipython",
    "version": 3
   },
   "file_extension": ".py",
   "mimetype": "text/x-python",
   "name": "python",
   "nbconvert_exporter": "python",
   "pygments_lexer": "ipython3",
   "version": "3.9.13"
  }
 },
 "nbformat": 4,
 "nbformat_minor": 5
}
