{
 "cells": [
  {
   "cell_type": "code",
   "execution_count": 2,
   "id": "9a0d6875",
   "metadata": {},
   "outputs": [
    {
     "name": "stdout",
     "output_type": "stream",
     "text": [
      "12\n"
     ]
    }
   ],
   "source": [
    "#With loop (a*b):\n",
    "def multiply(a,b):\n",
    "    \n",
    "    result=0\n",
    "    \n",
    "    for i in range(b):\n",
    "        result=result+a\n",
    "        \n",
    "    print(result)\n",
    "\n",
    "multiply(3,4)"
   ]
  },
  {
   "cell_type": "code",
   "execution_count": 6,
   "id": "a2a62d72",
   "metadata": {},
   "outputs": [
    {
     "data": {
      "text/plain": [
       "12"
      ]
     },
     "execution_count": 6,
     "metadata": {},
     "output_type": "execute_result"
    }
   ],
   "source": [
    "#With Recursion (a*b):\n",
    "def mul(a,b):\n",
    "    if b ==1:\n",
    "        return a\n",
    "    else:\n",
    "        return a+mul(a,b-1)\n",
    "    \n",
    "mul(3,4)"
   ]
  },
  {
   "cell_type": "code",
   "execution_count": 5,
   "id": "4bc812e6",
   "metadata": {},
   "outputs": [
    {
     "name": "stdout",
     "output_type": "stream",
     "text": [
      "120\n"
     ]
    }
   ],
   "source": [
    "#factorial:\n",
    "\n",
    "def fact(number):\n",
    "    if number ==1:\n",
    "        return 1\n",
    "    else:\n",
    "        return number * fact(number-1)\n",
    "    \n",
    "print(fact(5))"
   ]
  },
  {
   "cell_type": "code",
   "execution_count": 7,
   "id": "400e7132",
   "metadata": {},
   "outputs": [
    {
     "name": "stdout",
     "output_type": "stream",
     "text": [
      "palindrom\n",
      "palindrom\n",
      "Not a palindrom\n",
      "palindrom\n",
      "palindrom\n"
     ]
    }
   ],
   "source": [
    "#palindrom:\n",
    "def palin(text):\n",
    "    if len(text)<=1:\n",
    "        print(\"palindrom\")\n",
    "    else:\n",
    "        if(text[0]==text[-1]):\n",
    "            palin(text[1:-1])\n",
    "        else:\n",
    "            print(\"Not a palindrom\")\n",
    "            \n",
    "palin('madam')\n",
    "palin('malayalam')\n",
    "palin('python')\n",
    "palin('abba')\n",
    "\n"
   ]
  },
  {
   "cell_type": "code",
   "execution_count": 16,
   "id": "5601a8ae",
   "metadata": {},
   "outputs": [
    {
     "name": "stdout",
     "output_type": "stream",
     "text": [
      "10946\n",
      "0.016019582748413086\n"
     ]
    }
   ],
   "source": [
    "#Fibonacci:\n",
    "import time\n",
    "def fib(m):\n",
    "    if m==0 or m==1:\n",
    "        return 1\n",
    "    else:\n",
    "        return fib(m-1)+fib(m-2)\n",
    "    \n",
    "start=time.time()\n",
    "print(fib(20))\n",
    "print(time.time()-start)\n",
    "#it take too uch time if we pass huge number like 40,50 etc.to solve time complexity use this above code. "
   ]
  },
  {
   "cell_type": "code",
   "execution_count": 22,
   "id": "6247210a",
   "metadata": {},
   "outputs": [
    {
     "name": "stdout",
     "output_type": "stream",
     "text": [
      "225591516161936330872512695036072072046011324913758190588638866418474627738686883405015987052796968498626\n",
      "0.42299890518188477\n"
     ]
    }
   ],
   "source": [
    "#To solve time complexity use this code.\n",
    "import time\n",
    "def memo(m,d):\n",
    "    if m in d:\n",
    "        return d[m]\n",
    "    else:\n",
    "        d[m]=memo(m-1,d)+memo(m-2,d)\n",
    "        return d[m]\n",
    "    \n",
    "start=time.time()    \n",
    "d={0:1,1:1}\n",
    "print(memo(500,d))\n",
    "print(time.time()-start)\n"
   ]
  },
  {
   "cell_type": "code",
   "execution_count": null,
   "id": "5e60c987",
   "metadata": {},
   "outputs": [],
   "source": []
  },
  {
   "cell_type": "code",
   "execution_count": null,
   "id": "f83c04a6",
   "metadata": {},
   "outputs": [],
   "source": []
  },
  {
   "cell_type": "code",
   "execution_count": null,
   "id": "dd799c04",
   "metadata": {},
   "outputs": [],
   "source": []
  },
  {
   "cell_type": "code",
   "execution_count": null,
   "id": "3e06f123",
   "metadata": {},
   "outputs": [],
   "source": []
  },
  {
   "cell_type": "code",
   "execution_count": null,
   "id": "8ea7eb85",
   "metadata": {},
   "outputs": [],
   "source": []
  },
  {
   "cell_type": "code",
   "execution_count": null,
   "id": "63d137b7",
   "metadata": {},
   "outputs": [],
   "source": []
  }
 ],
 "metadata": {
  "kernelspec": {
   "display_name": "Python 3 (ipykernel)",
   "language": "python",
   "name": "python3"
  },
  "language_info": {
   "codemirror_mode": {
    "name": "ipython",
    "version": 3
   },
   "file_extension": ".py",
   "mimetype": "text/x-python",
   "name": "python",
   "nbconvert_exporter": "python",
   "pygments_lexer": "ipython3",
   "version": "3.9.13"
  }
 },
 "nbformat": 4,
 "nbformat_minor": 5
}
