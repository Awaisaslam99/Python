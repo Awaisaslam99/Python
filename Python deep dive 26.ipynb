{
 "cells": [
  {
   "cell_type": "code",
   "execution_count": 4,
   "id": "9c17be48",
   "metadata": {},
   "outputs": [],
   "source": [
    "#Aliasing\n",
    "a=4\n",
    "b=a"
   ]
  },
  {
   "cell_type": "code",
   "execution_count": 5,
   "id": "f16d5429",
   "metadata": {},
   "outputs": [
    {
     "data": {
      "text/plain": [
       "2217320409488"
      ]
     },
     "execution_count": 5,
     "metadata": {},
     "output_type": "execute_result"
    }
   ],
   "source": [
    "id(a)"
   ]
  },
  {
   "cell_type": "code",
   "execution_count": 6,
   "id": "8837893e",
   "metadata": {},
   "outputs": [
    {
     "data": {
      "text/plain": [
       "2217320409488"
      ]
     },
     "execution_count": 6,
     "metadata": {},
     "output_type": "execute_result"
    }
   ],
   "source": [
    "id(b)"
   ]
  },
  {
   "cell_type": "code",
   "execution_count": 7,
   "id": "71bbc391",
   "metadata": {},
   "outputs": [],
   "source": [
    "#Reference Counting:\n",
    "import sys\n"
   ]
  },
  {
   "cell_type": "code",
   "execution_count": 8,
   "id": "b2198f59",
   "metadata": {},
   "outputs": [],
   "source": [
    "a='corona'"
   ]
  },
  {
   "cell_type": "code",
   "execution_count": 9,
   "id": "6c9ac393",
   "metadata": {},
   "outputs": [],
   "source": [
    "b=a"
   ]
  },
  {
   "cell_type": "code",
   "execution_count": 10,
   "id": "67effb27",
   "metadata": {},
   "outputs": [],
   "source": [
    "c=b"
   ]
  },
  {
   "cell_type": "code",
   "execution_count": 11,
   "id": "657929b8",
   "metadata": {},
   "outputs": [
    {
     "data": {
      "text/plain": [
       "2217405067376"
      ]
     },
     "execution_count": 11,
     "metadata": {},
     "output_type": "execute_result"
    }
   ],
   "source": [
    "id(a)"
   ]
  },
  {
   "cell_type": "code",
   "execution_count": 12,
   "id": "8410bedf",
   "metadata": {},
   "outputs": [
    {
     "data": {
      "text/plain": [
       "2217405067376"
      ]
     },
     "execution_count": 12,
     "metadata": {},
     "output_type": "execute_result"
    }
   ],
   "source": [
    "id(b)"
   ]
  },
  {
   "cell_type": "code",
   "execution_count": 13,
   "id": "fb16d436",
   "metadata": {},
   "outputs": [
    {
     "data": {
      "text/plain": [
       "2217405067376"
      ]
     },
     "execution_count": 13,
     "metadata": {},
     "output_type": "execute_result"
    }
   ],
   "source": [
    "id(c)"
   ]
  },
  {
   "cell_type": "code",
   "execution_count": 16,
   "id": "f1718d9b",
   "metadata": {},
   "outputs": [
    {
     "data": {
      "text/plain": [
       "4"
      ]
     },
     "execution_count": 16,
     "metadata": {},
     "output_type": "execute_result"
    }
   ],
   "source": [
    "sys.getrefcount(a)\n",
    "#getrefcount use to count variable that exist at same point.\n",
    "#e.g a,b,c are exist at same point so getrefcount count three variables and than add 1 as itself."
   ]
  },
  {
   "cell_type": "code",
   "execution_count": null,
   "id": "ca9738df",
   "metadata": {},
   "outputs": [],
   "source": [
    "#Garbage Collection:\n"
   ]
  },
  {
   "cell_type": "code",
   "execution_count": 21,
   "id": "205faad6",
   "metadata": {},
   "outputs": [
    {
     "data": {
      "text/plain": [
       "1660"
      ]
     },
     "execution_count": 21,
     "metadata": {},
     "output_type": "execute_result"
    }
   ],
   "source": [
    "#Weird stuff:\n",
    "#weird behavior 1:\n",
    "a=2\n",
    "b=a\n",
    "c=b\n",
    "sys.getrefcount(a)\n",
    "#the ans is 4 but it gives 1660 bcozz 2 is very common number so many variables point 2.Thats why it gives 1660 answer.   "
   ]
  },
  {
   "cell_type": "code",
   "execution_count": 23,
   "id": "ec5295ea",
   "metadata": {},
   "outputs": [
    {
     "data": {
      "text/plain": [
       "18"
      ]
     },
     "execution_count": 23,
     "metadata": {},
     "output_type": "execute_result"
    }
   ],
   "source": [
    "a=61\n",
    "b=a\n",
    "c=b\n",
    "sys.getrefcount(a)\n",
    "#same problem thats why its called weird behavior 1."
   ]
  },
  {
   "cell_type": "code",
   "execution_count": 24,
   "id": "ab79ba7e",
   "metadata": {},
   "outputs": [
    {
     "data": {
      "text/plain": [
       "5"
      ]
     },
     "execution_count": 24,
     "metadata": {},
     "output_type": "execute_result"
    }
   ],
   "source": [
    "a=717\n",
    "b=a\n",
    "c=b\n",
    "sys.getrefcount(a)\n",
    "#same problem thats why its called weird behavior 1."
   ]
  },
  {
   "cell_type": "code",
   "execution_count": 25,
   "id": "bf353289",
   "metadata": {},
   "outputs": [],
   "source": [
    "#weird behavior 2:\n"
   ]
  },
  {
   "cell_type": "code",
   "execution_count": 27,
   "id": "5c8897bd",
   "metadata": {},
   "outputs": [],
   "source": [
    "#weird behavior 3:\n",
    "a='NCBAE'"
   ]
  },
  {
   "cell_type": "code",
   "execution_count": 28,
   "id": "7ed6908d",
   "metadata": {},
   "outputs": [],
   "source": [
    "b='NCBAE'"
   ]
  },
  {
   "cell_type": "code",
   "execution_count": 29,
   "id": "fafbb0a4",
   "metadata": {},
   "outputs": [
    {
     "data": {
      "text/plain": [
       "2217405126640"
      ]
     },
     "execution_count": 29,
     "metadata": {},
     "output_type": "execute_result"
    }
   ],
   "source": [
    "id(a)"
   ]
  },
  {
   "cell_type": "code",
   "execution_count": 30,
   "id": "d3b639d7",
   "metadata": {},
   "outputs": [
    {
     "data": {
      "text/plain": [
       "2217405126640"
      ]
     },
     "execution_count": 30,
     "metadata": {},
     "output_type": "execute_result"
    }
   ],
   "source": [
    "id(b)"
   ]
  },
  {
   "cell_type": "code",
   "execution_count": 43,
   "id": "c7a817eb",
   "metadata": {},
   "outputs": [],
   "source": [
    "a='national collage'\n",
    "#there's id is not same bcozz they are not valid identifier, and the space b/w characters."
   ]
  },
  {
   "cell_type": "code",
   "execution_count": 44,
   "id": "bb3f4001",
   "metadata": {},
   "outputs": [],
   "source": [
    "b='national collage'"
   ]
  },
  {
   "cell_type": "code",
   "execution_count": 45,
   "id": "e67bd848",
   "metadata": {},
   "outputs": [
    {
     "data": {
      "text/plain": [
       "2217405893008"
      ]
     },
     "execution_count": 45,
     "metadata": {},
     "output_type": "execute_result"
    }
   ],
   "source": [
    "id(a)"
   ]
  },
  {
   "cell_type": "code",
   "execution_count": 46,
   "id": "19a2b651",
   "metadata": {},
   "outputs": [
    {
     "data": {
      "text/plain": [
       "2217405894448"
      ]
     },
     "execution_count": 46,
     "metadata": {},
     "output_type": "execute_result"
    }
   ],
   "source": [
    "id(b)"
   ]
  },
  {
   "cell_type": "code",
   "execution_count": 40,
   "id": "30bcbeba",
   "metadata": {},
   "outputs": [],
   "source": [
    "a='national_collage'\n",
    "#there's id is same bcozz they are valid identifier.\n",
    "#The identifier in which no special character is used excep _, is ka Valid identifier. "
   ]
  },
  {
   "cell_type": "code",
   "execution_count": 39,
   "id": "bfd3175c",
   "metadata": {},
   "outputs": [],
   "source": [
    "b='national_collage'"
   ]
  },
  {
   "cell_type": "code",
   "execution_count": 41,
   "id": "ccc2e905",
   "metadata": {},
   "outputs": [
    {
     "data": {
      "text/plain": [
       "2217405893808"
      ]
     },
     "execution_count": 41,
     "metadata": {},
     "output_type": "execute_result"
    }
   ],
   "source": [
    "id(a)"
   ]
  },
  {
   "cell_type": "code",
   "execution_count": 42,
   "id": "725c21af",
   "metadata": {},
   "outputs": [
    {
     "data": {
      "text/plain": [
       "2217405893808"
      ]
     },
     "execution_count": 42,
     "metadata": {},
     "output_type": "execute_result"
    }
   ],
   "source": [
    "id(b)"
   ]
  },
  {
   "cell_type": "code",
   "execution_count": null,
   "id": "ad387603",
   "metadata": {},
   "outputs": [],
   "source": [
    "#Mutability:\n",
    "#cloning:\n",
    "  []"
   ]
  }
 ],
 "metadata": {
  "kernelspec": {
   "display_name": "Python 3 (ipykernel)",
   "language": "python",
   "name": "python3"
  },
  "language_info": {
   "codemirror_mode": {
    "name": "ipython",
    "version": 3
   },
   "file_extension": ".py",
   "mimetype": "text/x-python",
   "name": "python",
   "nbconvert_exporter": "python",
   "pygments_lexer": "ipython3",
   "version": "3.9.13"
  }
 },
 "nbformat": 4,
 "nbformat_minor": 5
}
