{
 "cells": [
  {
   "cell_type": "code",
   "execution_count": 2,
   "id": "68441f32",
   "metadata": {},
   "outputs": [
    {
     "name": "stdout",
     "output_type": "stream",
     "text": [
      "Hi\n"
     ]
    }
   ],
   "source": [
    "print(\"Hi\")"
   ]
  },
  {
   "cell_type": "code",
   "execution_count": 3,
   "id": "eb0acc1e",
   "metadata": {},
   "outputs": [
    {
     "name": "stdout",
     "output_type": "stream",
     "text": [
      "Enter nameAwais\n"
     ]
    },
    {
     "data": {
      "text/plain": [
       "'Awais'"
      ]
     },
     "execution_count": 3,
     "metadata": {},
     "output_type": "execute_result"
    }
   ],
   "source": [
    "input(\"Enter name\")"
   ]
  },
  {
   "cell_type": "code",
   "execution_count": 5,
   "id": "d35bfa9a",
   "metadata": {},
   "outputs": [
    {
     "data": {
      "text/plain": [
       "int"
      ]
     },
     "execution_count": 5,
     "metadata": {},
     "output_type": "execute_result"
    }
   ],
   "source": [
    "type(1)"
   ]
  },
  {
   "cell_type": "code",
   "execution_count": 6,
   "id": "606b7495",
   "metadata": {},
   "outputs": [
    {
     "data": {
      "text/plain": [
       "4"
      ]
     },
     "execution_count": 6,
     "metadata": {},
     "output_type": "execute_result"
    }
   ],
   "source": [
    "int(4.5)"
   ]
  },
  {
   "cell_type": "code",
   "execution_count": 10,
   "id": "91aaeeb2",
   "metadata": {},
   "outputs": [
    {
     "data": {
      "text/plain": [
       "4"
      ]
     },
     "execution_count": 10,
     "metadata": {},
     "output_type": "execute_result"
    }
   ],
   "source": [
    "abs(-4)"
   ]
  },
  {
   "cell_type": "code",
   "execution_count": 11,
   "id": "4abcead7",
   "metadata": {},
   "outputs": [
    {
     "data": {
      "text/plain": [
       "8"
      ]
     },
     "execution_count": 11,
     "metadata": {},
     "output_type": "execute_result"
    }
   ],
   "source": [
    "pow(2,3)"
   ]
  },
  {
   "cell_type": "code",
   "execution_count": 12,
   "id": "55bb75c4",
   "metadata": {},
   "outputs": [
    {
     "data": {
      "text/plain": [
       "1"
      ]
     },
     "execution_count": 12,
     "metadata": {},
     "output_type": "execute_result"
    }
   ],
   "source": [
    "min([1,2,3,4,5])"
   ]
  },
  {
   "cell_type": "code",
   "execution_count": 13,
   "id": "c823518f",
   "metadata": {},
   "outputs": [
    {
     "data": {
      "text/plain": [
       "10"
      ]
     },
     "execution_count": 13,
     "metadata": {},
     "output_type": "execute_result"
    }
   ],
   "source": [
    "max([1,2,3,4,5,10])"
   ]
  },
  {
   "cell_type": "code",
   "execution_count": 15,
   "id": "f7e9af05",
   "metadata": {},
   "outputs": [
    {
     "data": {
      "text/plain": [
       "7"
      ]
     },
     "execution_count": 15,
     "metadata": {},
     "output_type": "execute_result"
    }
   ],
   "source": [
    "a=21/3\n",
    "round(a)"
   ]
  },
  {
   "cell_type": "code",
   "execution_count": 16,
   "id": "783dd0b8",
   "metadata": {},
   "outputs": [
    {
     "data": {
      "text/plain": [
       "(2, 1)"
      ]
     },
     "execution_count": 16,
     "metadata": {},
     "output_type": "execute_result"
    }
   ],
   "source": [
    "divmod(5,2)"
   ]
  },
  {
   "cell_type": "code",
   "execution_count": 19,
   "id": "02af0b93",
   "metadata": {},
   "outputs": [
    {
     "data": {
      "text/plain": [
       "'0b100'"
      ]
     },
     "execution_count": 19,
     "metadata": {},
     "output_type": "execute_result"
    }
   ],
   "source": [
    "bin(4)"
   ]
  },
  {
   "cell_type": "code",
   "execution_count": 20,
   "id": "64e7bbde",
   "metadata": {},
   "outputs": [
    {
     "data": {
      "text/plain": [
       "'0o4'"
      ]
     },
     "execution_count": 20,
     "metadata": {},
     "output_type": "execute_result"
    }
   ],
   "source": [
    "oct(4)"
   ]
  },
  {
   "cell_type": "code",
   "execution_count": 21,
   "id": "d487d583",
   "metadata": {},
   "outputs": [
    {
     "data": {
      "text/plain": [
       "'0x4'"
      ]
     },
     "execution_count": 21,
     "metadata": {},
     "output_type": "execute_result"
    }
   ],
   "source": [
    "hex(4)"
   ]
  },
  {
   "cell_type": "code",
   "execution_count": 23,
   "id": "a0ad5e2f",
   "metadata": {},
   "outputs": [
    {
     "data": {
      "text/plain": [
       "1662599391632"
      ]
     },
     "execution_count": 23,
     "metadata": {},
     "output_type": "execute_result"
    }
   ],
   "source": [
    "a=4\n",
    "id(a)"
   ]
  },
  {
   "cell_type": "code",
   "execution_count": 24,
   "id": "39562b87",
   "metadata": {},
   "outputs": [
    {
     "data": {
      "text/plain": [
       "99"
      ]
     },
     "execution_count": 24,
     "metadata": {},
     "output_type": "execute_result"
    }
   ],
   "source": [
    "ord('c')"
   ]
  },
  {
   "cell_type": "code",
   "execution_count": 25,
   "id": "779ca402",
   "metadata": {},
   "outputs": [
    {
     "data": {
      "text/plain": [
       "5"
      ]
     },
     "execution_count": 25,
     "metadata": {},
     "output_type": "execute_result"
    }
   ],
   "source": [
    "len([3,8,2,5,6])"
   ]
  },
  {
   "cell_type": "code",
   "execution_count": 26,
   "id": "0b16861a",
   "metadata": {},
   "outputs": [
    {
     "data": {
      "text/plain": [
       "6"
      ]
     },
     "execution_count": 26,
     "metadata": {},
     "output_type": "execute_result"
    }
   ],
   "source": [
    "len(\"Lahore\")"
   ]
  },
  {
   "cell_type": "code",
   "execution_count": 27,
   "id": "171195bb",
   "metadata": {},
   "outputs": [
    {
     "data": {
      "text/plain": [
       "22"
      ]
     },
     "execution_count": 27,
     "metadata": {},
     "output_type": "execute_result"
    }
   ],
   "source": [
    "sum([2,8,1,7,4])"
   ]
  },
  {
   "cell_type": "code",
   "execution_count": 28,
   "id": "e8e6c9d9",
   "metadata": {},
   "outputs": [
    {
     "name": "stdout",
     "output_type": "stream",
     "text": [
      "Help on built-in function sum in module builtins:\n",
      "\n",
      "sum(iterable, /, start=0)\n",
      "    Return the sum of a 'start' value (default: 0) plus an iterable of numbers\n",
      "    \n",
      "    When the iterable is empty, return the start value.\n",
      "    This function is intended specifically for use with numeric values and may\n",
      "    reject non-numeric types.\n",
      "\n"
     ]
    }
   ],
   "source": [
    "help(\"sum\")"
   ]
  },
  {
   "cell_type": "code",
   "execution_count": null,
   "id": "b0d6d5a0",
   "metadata": {},
   "outputs": [],
   "source": []
  }
 ],
 "metadata": {
  "kernelspec": {
   "display_name": "Python 3 (ipykernel)",
   "language": "python",
   "name": "python3"
  },
  "language_info": {
   "codemirror_mode": {
    "name": "ipython",
    "version": 3
   },
   "file_extension": ".py",
   "mimetype": "text/x-python",
   "name": "python",
   "nbconvert_exporter": "python",
   "pygments_lexer": "ipython3",
   "version": "3.9.13"
  }
 },
 "nbformat": 4,
 "nbformat_minor": 5
}
