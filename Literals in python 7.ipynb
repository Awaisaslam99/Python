{
 "cells": [
  {
   "cell_type": "code",
   "execution_count": 13,
   "id": "bbe564c0",
   "metadata": {},
   "outputs": [
    {
     "name": "stdout",
     "output_type": "stream",
     "text": [
      "10 100 200 300\n",
      "10.5 150.0 0.0015\n",
      "3.14j 3.14 0.0\n"
     ]
    }
   ],
   "source": [
    "# 1)Numeric Literals:\n",
    "\n",
    "\n",
    "a= 0b1010      #Binary literals\n",
    "b=100          #Decimal literals\n",
    "c=0o310        #Octal literals\n",
    "d=0x12c        #Hexadecimal literals\n",
    "\n",
    "\n",
    "#float\n",
    "float_1= 10.5\n",
    "float_2=1.5e2\n",
    "float_3=1.5e-3\n",
    "\n",
    "#complex\n",
    "x=0+3.14j\n",
    "\n",
    "print (a,b,c,d)\n",
    "print(float_1, float_2, float_3)\n",
    "print(x,x.imag,x.real)"
   ]
  },
  {
   "cell_type": "code",
   "execution_count": 31,
   "id": "878aeba6",
   "metadata": {},
   "outputs": [
    {
     "name": "stdout",
     "output_type": "stream",
     "text": [
      "This is python\n",
      "This is python\n",
      "C\n",
      "This is multiline string with more than one line code.\n",
      "😀😆🤣\n",
      "\\n string\n"
     ]
    }
   ],
   "source": [
    "# 2) String Literals:\n",
    "string='This is python'\n",
    "strings=\"This is python\"\n",
    "char=\"C\"\n",
    "multiline_str=\"\"\"This is multiline string with more than one line code.\"\"\"\n",
    "unicode=u\"\\U0001f600\\U0001f606\\U0001f923\"\n",
    "raw_str=r\"\\n string\"\n",
    "\n",
    "print(string)\n",
    "print(strings)\n",
    "print(char)\n",
    "print(multiline_str)\n",
    "print(unicode)\n",
    "print(raw_str)"
   ]
  },
  {
   "cell_type": "code",
   "execution_count": 34,
   "id": "ef135b0e",
   "metadata": {},
   "outputs": [
    {
     "name": "stdout",
     "output_type": "stream",
     "text": [
      "5\n",
      "10\n"
     ]
    }
   ],
   "source": [
    "# 3) Boolean literals:\n",
    "a=True+4\n",
    "b=False+10\n",
    "\n",
    "print(a)\n",
    "print(b)"
   ]
  },
  {
   "cell_type": "code",
   "execution_count": 36,
   "id": "922151b5",
   "metadata": {},
   "outputs": [
    {
     "name": "stdout",
     "output_type": "stream",
     "text": [
      "None\n"
     ]
    }
   ],
   "source": [
    "# 4) Special literals :\n",
    "# variable declaration\n",
    "a=None\n",
    "print(a)"
   ]
  },
  {
   "cell_type": "code",
   "execution_count": null,
   "id": "32757c9e",
   "metadata": {},
   "outputs": [],
   "source": []
  }
 ],
 "metadata": {
  "kernelspec": {
   "display_name": "Python 3 (ipykernel)",
   "language": "python",
   "name": "python3"
  },
  "language_info": {
   "codemirror_mode": {
    "name": "ipython",
    "version": 3
   },
   "file_extension": ".py",
   "mimetype": "text/x-python",
   "name": "python",
   "nbconvert_exporter": "python",
   "pygments_lexer": "ipython3",
   "version": "3.9.13"
  }
 },
 "nbformat": 4,
 "nbformat_minor": 5
}
