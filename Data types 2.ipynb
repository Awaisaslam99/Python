{
 "cells": [
  {
   "cell_type": "code",
   "execution_count": null,
   "id": "314f4aec",
   "metadata": {},
   "outputs": [],
   "source": [
    "#Basic types:"
   ]
  },
  {
   "cell_type": "code",
   "execution_count": 3,
   "id": "ce114873",
   "metadata": {},
   "outputs": [
    {
     "name": "stdout",
     "output_type": "stream",
     "text": [
      "4\n",
      "1200000000000000000000000000000000000000000000000000000000000000000000000000000000000000000000000000\n",
      "inf\n"
     ]
    }
   ],
   "source": [
    "#integer\n",
    "print(4)\n",
    "print(1200000000000000000000000000000000000000000000000000000000000000000000000000000000000000000000000000)\n",
    "print(1e309)"
   ]
  },
  {
   "cell_type": "code",
   "execution_count": 6,
   "id": "fad2afee",
   "metadata": {},
   "outputs": [
    {
     "name": "stdout",
     "output_type": "stream",
     "text": [
      "4.6\n",
      "1.7e+308\n",
      "inf\n"
     ]
    }
   ],
   "source": [
    "#float\n",
    "print(4.6)\n",
    "print(1.7e308)\n",
    "print(1.7e309)"
   ]
  },
  {
   "cell_type": "code",
   "execution_count": 7,
   "id": "d7636c60",
   "metadata": {},
   "outputs": [
    {
     "name": "stdout",
     "output_type": "stream",
     "text": [
      "True\n",
      "False\n"
     ]
    }
   ],
   "source": [
    "#boolean\n",
    "print(True)\n",
    "print(False)"
   ]
  },
  {
   "cell_type": "code",
   "execution_count": 10,
   "id": "f3717479",
   "metadata": {},
   "outputs": [
    {
     "name": "stdout",
     "output_type": "stream",
     "text": [
      "15\n",
      "(4+5j)\n"
     ]
    }
   ],
   "source": [
    "#complex\n",
    "print(10+5)\n",
    "print(4+5j)"
   ]
  },
  {
   "cell_type": "code",
   "execution_count": 11,
   "id": "20a7868f",
   "metadata": {},
   "outputs": [
    {
     "name": "stdout",
     "output_type": "stream",
     "text": [
      "Lahore\n",
      "Lahore\n",
      "Lahore\n"
     ]
    }
   ],
   "source": [
    "#string\n",
    "print('Lahore')\n",
    "print(\"Lahore\")\n",
    "print(\"\"\"Lahore\"\"\")"
   ]
  },
  {
   "cell_type": "code",
   "execution_count": null,
   "id": "cf18c5c9",
   "metadata": {},
   "outputs": [],
   "source": [
    "#container types:"
   ]
  },
  {
   "cell_type": "code",
   "execution_count": 12,
   "id": "615e74dc",
   "metadata": {},
   "outputs": [
    {
     "name": "stdout",
     "output_type": "stream",
     "text": [
      "[1, 2, 3, 4, 5]\n"
     ]
    }
   ],
   "source": [
    "#list\n",
    "print([1,2,3,4,5])"
   ]
  },
  {
   "cell_type": "code",
   "execution_count": 14,
   "id": "5f9c6141",
   "metadata": {},
   "outputs": [
    {
     "name": "stdout",
     "output_type": "stream",
     "text": [
      "(1, 2, 3, 4, 5)\n"
     ]
    }
   ],
   "source": [
    "#Tuple\n",
    "print((1,2,3,4,5))"
   ]
  },
  {
   "cell_type": "code",
   "execution_count": 17,
   "id": "694c3df1",
   "metadata": {},
   "outputs": [
    {
     "name": "stdout",
     "output_type": "stream",
     "text": [
      "{1, 2, 3, 4, 5}\n"
     ]
    }
   ],
   "source": [
    "#sets\n",
    "print({1,2,3,4,5})"
   ]
  },
  {
   "cell_type": "code",
   "execution_count": 26,
   "id": "f6235382",
   "metadata": {},
   "outputs": [
    {
     "name": "stdout",
     "output_type": "stream",
     "text": [
      "{'Name': 'Awais', 'Age': 21, 'Gender': 'male'}\n"
     ]
    }
   ],
   "source": [
    "#Dictionary\n",
    "print({\"Name\":\"Awais\",\"Age\":21,\"Gender\":\"male\"})"
   ]
  },
  {
   "cell_type": "code",
   "execution_count": 25,
   "id": "0befef99",
   "metadata": {},
   "outputs": [
    {
     "name": "stdout",
     "output_type": "stream",
     "text": [
      "10\n"
     ]
    }
   ],
   "source": []
  },
  {
   "cell_type": "code",
   "execution_count": null,
   "id": "05dd78e0",
   "metadata": {},
   "outputs": [],
   "source": []
  }
 ],
 "metadata": {
  "kernelspec": {
   "display_name": "Python 3 (ipykernel)",
   "language": "python",
   "name": "python3"
  },
  "language_info": {
   "codemirror_mode": {
    "name": "ipython",
    "version": 3
   },
   "file_extension": ".py",
   "mimetype": "text/x-python",
   "name": "python",
   "nbconvert_exporter": "python",
   "pygments_lexer": "ipython3",
   "version": "3.9.13"
  }
 },
 "nbformat": 4,
 "nbformat_minor": 5
}
