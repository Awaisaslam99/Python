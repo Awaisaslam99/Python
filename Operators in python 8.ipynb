{
 "cells": [
  {
   "cell_type": "code",
   "execution_count": 2,
   "id": "1ea0e590",
   "metadata": {},
   "outputs": [
    {
     "name": "stdout",
     "output_type": "stream",
     "text": [
      "7\n",
      "3\n",
      "10\n",
      "2.5\n",
      "1\n",
      "25\n",
      "2\n"
     ]
    }
   ],
   "source": [
    "# 1) Arthmetic operators:\n",
    "x=5\n",
    "y=2\n",
    "print(x+y)\n",
    "print(x-y)\n",
    "print(x*y)\n",
    "print(x/y)\n",
    "print(x%y)\n",
    "print(x**y)\n",
    "print(x//y)"
   ]
  },
  {
   "cell_type": "code",
   "execution_count": 3,
   "id": "e6ba255a",
   "metadata": {},
   "outputs": [
    {
     "name": "stdout",
     "output_type": "stream",
     "text": [
      "False\n",
      "True\n",
      "False\n",
      "True\n",
      "False\n",
      "True\n"
     ]
    }
   ],
   "source": [
    "# 2) Comparision operators:\n",
    "x=2\n",
    "y=5\n",
    "print(x>y)\n",
    "print(x<y)\n",
    "print(x>=y)\n",
    "print(x<=y)\n",
    "print(x==y)\n",
    "print(x!=y)"
   ]
  },
  {
   "cell_type": "code",
   "execution_count": 4,
   "id": "8b3c38ef",
   "metadata": {},
   "outputs": [
    {
     "name": "stdout",
     "output_type": "stream",
     "text": [
      "True\n",
      "False\n",
      "False\n"
     ]
    }
   ],
   "source": [
    "# 3) Logical Operators:\n",
    "x=True\n",
    "y=False\n",
    "print(x or y)\n",
    "print(x and y)\n",
    "print(not x)"
   ]
  },
  {
   "cell_type": "code",
   "execution_count": 6,
   "id": "a2309676",
   "metadata": {},
   "outputs": [
    {
     "name": "stdout",
     "output_type": "stream",
     "text": [
      "2\n",
      "3\n",
      "0\n",
      "12\n",
      "-3\n"
     ]
    }
   ],
   "source": [
    "# 4) Bitwise operatore:\n",
    "x=2\n",
    "y=3\n",
    "print(x&y)\n",
    "print(x | y)\n",
    "print(x>>y)\n",
    "print(y<<x)\n",
    "print(~x)\n"
   ]
  },
  {
   "cell_type": "code",
   "execution_count": 11,
   "id": "2cd4f885",
   "metadata": {},
   "outputs": [
    {
     "name": "stdout",
     "output_type": "stream",
     "text": [
      "3\n",
      "6\n",
      "3\n",
      "9\n"
     ]
    }
   ],
   "source": [
    "# 5) Assignment operators:\n",
    "a=3 \n",
    "print(a)\n",
    "a+=3\n",
    "print(a)\n",
    "a-=3\n",
    "print(a)\n",
    "a*=3\n",
    "print(a)"
   ]
  },
  {
   "cell_type": "code",
   "execution_count": 12,
   "id": "24070194",
   "metadata": {},
   "outputs": [
    {
     "name": "stdout",
     "output_type": "stream",
     "text": [
      "True\n"
     ]
    }
   ],
   "source": [
    "# 6) Identity Operators:\n",
    "x=3\n",
    "y=3\n",
    "print(x is y)\n"
   ]
  },
  {
   "cell_type": "code",
   "execution_count": 13,
   "id": "c6ece60c",
   "metadata": {},
   "outputs": [
    {
     "name": "stdout",
     "output_type": "stream",
     "text": [
      "True\n"
     ]
    }
   ],
   "source": [
    "x='Hello'\n",
    "y='Hello'\n",
    "print(x is y)"
   ]
  },
  {
   "cell_type": "code",
   "execution_count": 14,
   "id": "901c892d",
   "metadata": {},
   "outputs": [
    {
     "name": "stdout",
     "output_type": "stream",
     "text": [
      "False\n"
     ]
    }
   ],
   "source": [
    "x='Hello'\n",
    "y='Hello'\n",
    "print(x is not y)"
   ]
  },
  {
   "cell_type": "code",
   "execution_count": 15,
   "id": "8c486b2f",
   "metadata": {},
   "outputs": [
    {
     "name": "stdout",
     "output_type": "stream",
     "text": [
      "False\n"
     ]
    }
   ],
   "source": [
    "x='Hello-world'\n",
    "y='Hello-world'\n",
    "print(x is y)"
   ]
  },
  {
   "cell_type": "code",
   "execution_count": 16,
   "id": "b04c78ba",
   "metadata": {},
   "outputs": [
    {
     "name": "stdout",
     "output_type": "stream",
     "text": [
      "False\n"
     ]
    }
   ],
   "source": [
    "x='[1,2,3]'\n",
    "y='[1,2,3]'\n",
    "print(x is y)"
   ]
  },
  {
   "cell_type": "code",
   "execution_count": 17,
   "id": "2501997e",
   "metadata": {},
   "outputs": [
    {
     "name": "stdout",
     "output_type": "stream",
     "text": [
      "True\n"
     ]
    }
   ],
   "source": [
    "x='[1,2,3]'\n",
    "y='[1,2,3]'\n",
    "print(x is not y)"
   ]
  },
  {
   "cell_type": "code",
   "execution_count": 2,
   "id": "16c7e73b",
   "metadata": {},
   "outputs": [
    {
     "name": "stdout",
     "output_type": "stream",
     "text": [
      "True\n",
      "False\n"
     ]
    }
   ],
   "source": [
    "# 7) Membership operatore:\n",
    "\n",
    "x='Delhi'\n",
    "print('D' in x)\n",
    "print('D' not in x)\n"
   ]
  },
  {
   "cell_type": "code",
   "execution_count": null,
   "id": "8fa49133",
   "metadata": {},
   "outputs": [],
   "source": []
  }
 ],
 "metadata": {
  "kernelspec": {
   "display_name": "Python 3 (ipykernel)",
   "language": "python",
   "name": "python3"
  },
  "language_info": {
   "codemirror_mode": {
    "name": "ipython",
    "version": 3
   },
   "file_extension": ".py",
   "mimetype": "text/x-python",
   "name": "python",
   "nbconvert_exporter": "python",
   "pygments_lexer": "ipython3",
   "version": "3.9.13"
  }
 },
 "nbformat": 4,
 "nbformat_minor": 5
}
