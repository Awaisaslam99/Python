{
 "cells": [
  {
   "cell_type": "markdown",
   "id": "44485d68",
   "metadata": {},
   "source": [
    "# Iteration:"
   ]
  },
  {
   "cell_type": "code",
   "execution_count": null,
   "id": "c02558cc",
   "metadata": {},
   "outputs": [],
   "source": [
    "# Iteration is a general term for taking each item of something, one after another. \n",
    "# Any time you use a loop, explicite or implicite, to go over a group of items, that is iteration."
   ]
  },
  {
   "cell_type": "code",
   "execution_count": 1,
   "id": "eb7d944a",
   "metadata": {},
   "outputs": [
    {
     "name": "stdout",
     "output_type": "stream",
     "text": [
      "1\n",
      "2\n",
      "3\n"
     ]
    }
   ],
   "source": [
    "# Example:\n",
    "\n",
    "n=[1,2,3]\n",
    "for i in n:\n",
    "    print(i)"
   ]
  },
  {
   "cell_type": "markdown",
   "id": "b80a669a",
   "metadata": {},
   "source": [
    "# Iterator:"
   ]
  },
  {
   "cell_type": "code",
   "execution_count": null,
   "id": "2cfe8178",
   "metadata": {},
   "outputs": [],
   "source": [
    "# An iterator is an object that allows the  programmer to traverse through a sequence of data without \n",
    "# having to store the intire data in the memomry.\n",
    "\n",
    "# # iterator  wo obj ha jiski wja se iteration hota ha..."
   ]
  },
  {
   "cell_type": "code",
   "execution_count": 9,
   "id": "a1b408f9",
   "metadata": {},
   "outputs": [
    {
     "name": "stdout",
     "output_type": "stream",
     "text": [
      "920\n",
      "48\n"
     ]
    }
   ],
   "source": [
    "# Example:\n",
    "\n",
    "L=[x for x in range(1,100)]\n",
    "\n",
    "#for i in x:\n",
    " #   print(i*2)\n",
    "import sys\n",
    "print(sys.getsizeof(L))\n",
    "\n",
    "x=range(1,100)\n",
    "\n",
    "#for i in x:\n",
    " #   print(i*2)\n",
    "\n",
    "print(sys.getsizeof(x))\n",
    "    "
   ]
  },
  {
   "cell_type": "markdown",
   "id": "417a1a7c",
   "metadata": {},
   "source": [
    "# Iterable:"
   ]
  },
  {
   "cell_type": "code",
   "execution_count": null,
   "id": "083b52b7",
   "metadata": {},
   "outputs": [],
   "source": [
    "# An Iterable is basically an object that any user can iterate over.\n",
    "\n",
    "# it generates an iterator when passed to itr() method."
   ]
  },
  {
   "cell_type": "code",
   "execution_count": 11,
   "id": "1484a1ee",
   "metadata": {},
   "outputs": [
    {
     "name": "stdout",
     "output_type": "stream",
     "text": [
      "<class 'list'>\n",
      "<class 'list_iterator'>\n"
     ]
    }
   ],
   "source": [
    "# Example:\n",
    "\n",
    "L=[1,2,3]\n",
    "\n",
    "print(type(L))             # L is an iterable\n",
    "\n",
    "\n",
    "print(type(iter(L)))\n",
    "\n",
    "\n",
    "# iter(L)  --> iterator"
   ]
  },
  {
   "cell_type": "markdown",
   "id": "2f1567b3",
   "metadata": {},
   "source": [
    "# Point to remember:"
   ]
  },
  {
   "cell_type": "code",
   "execution_count": null,
   "id": "9941ad02",
   "metadata": {},
   "outputs": [],
   "source": [
    "# 1- Every iterator is also and iterable.\n",
    "# 2- Not all iterable are iterator.."
   ]
  },
  {
   "cell_type": "markdown",
   "id": "7b1c4694",
   "metadata": {},
   "source": [
    "# Trick:"
   ]
  },
  {
   "cell_type": "code",
   "execution_count": null,
   "id": "8c53d527",
   "metadata": {},
   "outputs": [],
   "source": [
    "# 1- Every iterable has an iter function.\n",
    "# 2- Every iterator  has both \"iter()\" funtion as well as \"next()\" function.."
   ]
  },
  {
   "cell_type": "code",
   "execution_count": null,
   "id": "71710faf",
   "metadata": {},
   "outputs": [],
   "source": [
    "# 1- Every iterable has an iter function.\n",
    "\n",
    "# if you want to know function has an iterable or not use \"dir()\"..or use for loop..\n",
    "\n",
    "a=2\n",
    "\n",
    "#for i in a:\n",
    "#    print(i)\n",
    "dir(a)\n",
    "\n",
    "# if you see iter it means it is ab iterable..otherwise not..."
   ]
  },
  {
   "cell_type": "code",
   "execution_count": null,
   "id": "3c3dc8da",
   "metadata": {},
   "outputs": [],
   "source": [
    "# 2- Every iterator  has both iter funtion as well as next function..\n",
    "\n",
    "# if you want function has is iterator or use only \"dir\" function..\n",
    "\n",
    "# if you see both 'iter' and 'next' function it means it's an iterator.. \n",
    "\n",
    "\n",
    "L=[1,2,3]\n",
    "dir(L)           \n"
   ]
  },
  {
   "cell_type": "markdown",
   "id": "71653494",
   "metadata": {},
   "source": [
    "# Understanding how for loop works:"
   ]
  },
  {
   "cell_type": "code",
   "execution_count": 12,
   "id": "65a58500",
   "metadata": {},
   "outputs": [
    {
     "name": "stdout",
     "output_type": "stream",
     "text": [
      "1\n",
      "2\n",
      "3\n"
     ]
    }
   ],
   "source": [
    "# Example:\n",
    "\n",
    "n=[1,2,3]\n",
    "for i in n:\n",
    "    print(i)"
   ]
  },
  {
   "cell_type": "code",
   "execution_count": 13,
   "id": "1c9872b0",
   "metadata": {},
   "outputs": [
    {
     "ename": "StopIteration",
     "evalue": "",
     "output_type": "error",
     "traceback": [
      "\u001b[1;31m---------------------------------------------------------------------------\u001b[0m",
      "\u001b[1;31mStopIteration\u001b[0m                             Traceback (most recent call last)",
      "\u001b[1;32m~\\AppData\\Local\\Temp\\ipykernel_5296\\3018935449.py\u001b[0m in \u001b[0;36m<module>\u001b[1;34m\u001b[0m\n\u001b[0;32m     10\u001b[0m \u001b[0mnext\u001b[0m\u001b[1;33m(\u001b[0m\u001b[0miter_n\u001b[0m\u001b[1;33m)\u001b[0m\u001b[1;33m\u001b[0m\u001b[1;33m\u001b[0m\u001b[0m\n\u001b[0;32m     11\u001b[0m \u001b[0mnext\u001b[0m\u001b[1;33m(\u001b[0m\u001b[0miter_n\u001b[0m\u001b[1;33m)\u001b[0m\u001b[1;33m\u001b[0m\u001b[1;33m\u001b[0m\u001b[0m\n\u001b[1;32m---> 12\u001b[1;33m \u001b[0mnext\u001b[0m\u001b[1;33m(\u001b[0m\u001b[0miter_n\u001b[0m\u001b[1;33m)\u001b[0m      \u001b[1;31m# it through error \"StopIteration\" becozz we have only three iterators..\u001b[0m\u001b[1;33m\u001b[0m\u001b[1;33m\u001b[0m\u001b[0m\n\u001b[0m",
      "\u001b[1;31mStopIteration\u001b[0m: "
     ]
    }
   ],
   "source": [
    "# how for loop works:\n",
    "\n",
    "n=[1,2,3]\n",
    "\n",
    "# Step-1: fetch the iterator\n",
    "iter_n=iter(n)\n",
    "\n",
    "# step-2: call next function..\n",
    "next(iter_n)\n",
    "next(iter_n)\n",
    "next(iter_n)\n",
    "next(iter_n)      # it through error \"StopIteration\" becozz we have only three iterators.."
   ]
  },
  {
   "cell_type": "markdown",
   "id": "d3cd2ed6",
   "metadata": {},
   "source": [
    "# Making our own for_loop.."
   ]
  },
  {
   "cell_type": "code",
   "execution_count": 14,
   "id": "8f2740f6",
   "metadata": {},
   "outputs": [
    {
     "name": "stdout",
     "output_type": "stream",
     "text": [
      "0\n",
      "1\n"
     ]
    }
   ],
   "source": [
    "\n",
    "def for_loop(iterable):\n",
    "    iterator=iter(iterable)\n",
    "    \n",
    "    while True:\n",
    "        try:\n",
    "            print(next(iterator))\n",
    "            \n",
    "        except StopIteration:\n",
    "            break\n",
    "\n",
    "a=[1,2,3]\n",
    "b=range(1,11)\n",
    "c={1,2,3}\n",
    "d=(1,2,3)\n",
    "e={0:1,1:1}\n",
    "for_loop(e)"
   ]
  },
  {
   "cell_type": "markdown",
   "id": "babeeed4",
   "metadata": {},
   "source": [
    "# Creat our own range() function:"
   ]
  },
  {
   "cell_type": "code",
   "execution_count": 15,
   "id": "458d8f08",
   "metadata": {},
   "outputs": [
    {
     "name": "stdout",
     "output_type": "stream",
     "text": [
      "1\n",
      "2\n",
      "3\n",
      "4\n",
      "5\n",
      "6\n",
      "7\n",
      "8\n",
      "9\n",
      "10\n"
     ]
    }
   ],
   "source": [
    "\n",
    "class our_range:\n",
    "    def __init__(self,start,end):\n",
    "        self.start=start\n",
    "        self.end=end\n",
    "        \n",
    "    def __iter__(self):\n",
    "        return our_range_iterator(self)\n",
    "\n",
    "\n",
    "class our_range_iterator:\n",
    "    def __init__(self,iterable_obj):\n",
    "        self.iterable=iterable_obj\n",
    "        \n",
    "    def __iter__(self):\n",
    "        return self\n",
    "    def __next__(self):\n",
    "        if self.iterable.start>=self.iterable.end:\n",
    "            raise StopIteration\n",
    "            \n",
    "        current=self.iterable.start\n",
    "        self.iterable.start+=1\n",
    "        return current\n",
    "    \n",
    "for i in our_range(1,11):\n",
    "    print(i)"
   ]
  },
  {
   "cell_type": "code",
   "execution_count": 30,
   "id": "df154fd2",
   "metadata": {},
   "outputs": [],
   "source": []
  },
  {
   "cell_type": "code",
   "execution_count": null,
   "id": "c226fd9a",
   "metadata": {},
   "outputs": [],
   "source": [
    "\n"
   ]
  },
  {
   "cell_type": "code",
   "execution_count": null,
   "id": "8933fdb9",
   "metadata": {},
   "outputs": [],
   "source": []
  }
 ],
 "metadata": {
  "kernelspec": {
   "display_name": "Python 3 (ipykernel)",
   "language": "python",
   "name": "python3"
  },
  "language_info": {
   "codemirror_mode": {
    "name": "ipython",
    "version": 3
   },
   "file_extension": ".py",
   "mimetype": "text/x-python",
   "name": "python",
   "nbconvert_exporter": "python",
   "pygments_lexer": "ipython3",
   "version": "3.9.13"
  }
 },
 "nbformat": 4,
 "nbformat_minor": 5
}
