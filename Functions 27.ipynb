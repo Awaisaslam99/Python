{
 "cells": [
  {
   "cell_type": "code",
   "execution_count": 2,
   "id": "3342bf62",
   "metadata": {},
   "outputs": [],
   "source": [
    "#Abstraction:\n"
   ]
  },
  {
   "cell_type": "code",
   "execution_count": 3,
   "id": "4709a106",
   "metadata": {},
   "outputs": [],
   "source": [
    "#Decompositions:\n"
   ]
  },
  {
   "cell_type": "code",
   "execution_count": 4,
   "id": "249524db",
   "metadata": {},
   "outputs": [],
   "source": [
    "#components of Functions:\n"
   ]
  },
  {
   "cell_type": "code",
   "execution_count": 6,
   "id": "01faaddb",
   "metadata": {},
   "outputs": [
    {
     "ename": "SyntaxError",
     "evalue": "invalid syntax (3523193486.py, line 11)",
     "output_type": "error",
     "traceback": [
      "\u001b[1;36m  File \u001b[1;32m\"C:\\Users\\TECH DEALS\\AppData\\Local\\Temp\\ipykernel_10664\\3523193486.py\"\u001b[1;36m, line \u001b[1;32m11\u001b[0m\n\u001b[1;33m    else\u001b[0m\n\u001b[1;37m        ^\u001b[0m\n\u001b[1;31mSyntaxError\u001b[0m\u001b[1;31m:\u001b[0m invalid syntax\n"
     ]
    }
   ],
   "source": [
    "def is_even(number):\n",
    "    \"\"\"\n",
    "    This function tells if a given number is even or odd\n",
    "    output-any valid integer\n",
    "    output-even/odd\n",
    "    created By-Awais\n",
    "    Last edited-15 jan 2021\n",
    "    \"\"\"\n",
    "    if number %2==0:\n",
    "        return \"Even\"\n",
    "    else\n",
    "        return \"Odd\"\n",
    "    \n",
    "for i in in range(1,11):\n",
    "    print(is_even(i))"
   ]
  },
  {
   "cell_type": "code",
   "execution_count": 7,
   "id": "883a0d9f",
   "metadata": {},
   "outputs": [
    {
     "ename": "NameError",
     "evalue": "name 'is_even' is not defined",
     "output_type": "error",
     "traceback": [
      "\u001b[1;31m---------------------------------------------------------------------------\u001b[0m",
      "\u001b[1;31mNameError\u001b[0m                                 Traceback (most recent call last)",
      "\u001b[1;32m~\\AppData\\Local\\Temp\\ipykernel_10664\\3381735398.py\u001b[0m in \u001b[0;36m<module>\u001b[1;34m\u001b[0m\n\u001b[1;32m----> 1\u001b[1;33m \u001b[0mprint\u001b[0m\u001b[1;33m(\u001b[0m\u001b[0mis_even\u001b[0m\u001b[1;33m.\u001b[0m\u001b[0m__doc__\u001b[0m\u001b[1;33m)\u001b[0m\u001b[1;33m\u001b[0m\u001b[1;33m\u001b[0m\u001b[0m\n\u001b[0m",
      "\u001b[1;31mNameError\u001b[0m: name 'is_even' is not defined"
     ]
    }
   ],
   "source": [
    "print(is_even.__doc__)"
   ]
  },
  {
   "cell_type": "code",
   "execution_count": null,
   "id": "f5f42585",
   "metadata": {},
   "outputs": [],
   "source": [
    "# Local & Global Variables:\n"
   ]
  }
 ],
 "metadata": {
  "kernelspec": {
   "display_name": "Python 3 (ipykernel)",
   "language": "python",
   "name": "python3"
  },
  "language_info": {
   "codemirror_mode": {
    "name": "ipython",
    "version": 3
   },
   "file_extension": ".py",
   "mimetype": "text/x-python",
   "name": "python",
   "nbconvert_exporter": "python",
   "pygments_lexer": "ipython3",
   "version": "3.9.13"
  }
 },
 "nbformat": 4,
 "nbformat_minor": 5
}
